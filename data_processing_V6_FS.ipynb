{
 "cells": [
  {
   "cell_type": "code",
   "execution_count": 614,
   "metadata": {},
   "outputs": [],
   "source": [
    "import pandas as pd\n",
    "import numpy as np\n",
    "from sklearn import linear_model\n",
    "from sklearn.ensemble import GradientBoostingRegressor\n",
    "from sklearn.model_selection import cross_val_predict\n",
    "from sklearn.model_selection import cross_val_score\n",
    "from sklearn.metrics import mean_squared_error\n",
    "from sklearn.metrics import mean_squared_log_error\n",
    "from scipy.stats import boxcox\n",
    "from scipy.special import boxcox1p\n",
    "from scipy.special import inv_boxcox\n",
    "from scipy.stats import boxcox_normmax\n",
    "from sklearn.tree import DecisionTreeRegressor\n",
    "from sklearn.ensemble import RandomForestRegressor\n",
    "from sklearn.model_selection import GridSearchCV\n",
    "#from mlxtend.regressor import StackingCVRegressor\n",
    "from sklearn.feature_selection import RFE\n",
    "\n",
    "from sklearn.metrics import mean_squared_error, r2_score\n",
    "from sklearn.preprocessing import PolynomialFeatures\n",
    "\n",
    "from sklearn.pipeline import make_pipeline\n",
    "from sklearn.preprocessing import RobustScaler\n",
    "import cluster_fun\n",
    "\n",
    "from sklearn.ensemble import VotingRegressor\n",
    "\n",
    "import warnings\n",
    "warnings.simplefilter(action='ignore', category=FutureWarning)\n",
    "\n",
    "import seaborn as sns\n",
    "import matplotlib.pyplot as plt\n",
    "\n",
    "from sklearn.preprocessing import PolynomialFeatures\n",
    "\n",
    "\n",
    "import statsmodels.api as sm\n"
   ]
  },
  {
   "cell_type": "code",
   "execution_count": 615,
   "metadata": {},
   "outputs": [],
   "source": [
    "pd.set_option('display.max_rows', 500)\n",
    "pd.set_option('display.max_columns', 500)\n",
    "\n",
    "#FUNCTIONS ==============================================================================================\n",
    "\n",
    "def evaluate_model(model, x, y, folds):\n",
    "    print(\"Accuracy: \",round(model.score(x, y),4))\n",
    "    ypred = cross_val_predict(model, x, y, cv = folds, n_jobs = -1)\n",
    "    ypred = np.exp(ypred)\n",
    "    y = np.exp(y)\n",
    "    print(\"RMSLE = \", round(np.sqrt(mean_squared_log_error(ypred, y )),4) )\n",
    "    scores   = -cross_val_score(model, x, y, scoring='neg_mean_squared_error', cv = folds)\n",
    "    print(\"Cross-Val Score =\",round(np.mean(scores**.5)))\n",
    "   \n",
    "def knn(xTrain,xTest,k=5):\n",
    "    \"\"\"\n",
    "    Finds the k nearest neighbors of xTest in xTrain.\n",
    "    Input:\n",
    "    xTrain = n x d matrix. n=rows and d=features\n",
    "    xTest = m x d matrix. m=rows and d=features (same amount of features as xTrain)\n",
    "    k = number of nearest neighbors to be found\n",
    "    Output:\n",
    "    dists = distances between all xTrain and all XTest points. Size of n x m\n",
    "    indices = k x m matrix with the indices of the yTrain labels that represent the point\n",
    "    @: is the equivalent of the dot product\n",
    "    \"\"\"\n",
    "    #the following formula calculates the Euclidean distances.\n",
    "    distances = -2 * xTrain@xTest.T + np.sum(xTest**2,axis=1) + np.sum(xTrain**2,axis=1)[:, np.newaxis] \n",
    "    #because of numpy precision, some really small numbers might become negatives.\n",
    "    #so, we need to replace all negative numbers with zero.\n",
    "    distances[distances < 0] = 0\n",
    "    distances = distances**.5\n",
    "    indices = np.argsort(distances, 0) #get indices of sorted items\n",
    "    distances = np.sort(distances,0) #distances sorted in axis 0\n",
    "    #returning the top-k closest distances.\n",
    "    return indices[0:k, : ], distances[0:k, : ]\n",
    "\n",
    "def knn_predictions(xTrain,yTrain,xTest,k):\n",
    "    \"\"\"\n",
    "    Input:\n",
    "    xTrain = n x d matrix. n=rows and d=features\n",
    "    yTrain = n x 1 array. n=rows with label value\n",
    "    xTest = m x d matrix. m=rows and d=features (same amount of features as xTrain)\n",
    "    k = number of nearest neighbors to be found\n",
    "    Output:\n",
    "    predictions = predicted labels, ie preds(i) is the predicted label of xTest(i,:)\n",
    "    \"\"\"\n",
    "    indices, distances = knn(xTrain,xTest,k)\n",
    "    yTrain = yTrain.flatten()\n",
    "    rows, columns = indices.shape\n",
    "    predictions = list()\n",
    "    for j in range(columns):\n",
    "        temp = list()\n",
    "        for i in range(rows):\n",
    "            cell=indices[i][j]\n",
    "            temp.append(yTrain[cell])\n",
    "        predictions.append(np.mean(temp)) #this is the key function, brings the mode value\n",
    "    predictions=np.array(predictions)\n",
    "    return predictions"
   ]
  },
  {
   "cell_type": "code",
   "execution_count": 616,
   "metadata": {},
   "outputs": [
    {
     "data": {
      "text/plain": [
       "'\\ndf_neighbldg = df[:1460][[\"Neighborhood\", \"BldgType\", \"SalePrice\", \"LivingArea\"]]\\ndf_neighbldg[\\'psqft\\'] = df_neighbldg[\"SalePrice\"]/df_neighbldg[\"LivingArea\"]\\nprint(df_neighbldg)\\ndf_neighbldg = df_neighbldg.groupby([\"Neighborhood\", \"BldgType\"]).agg({\\'psqft\\' : [\\'mean\\']})\\n\\ndf_neighbldg=df_neighbldg.reset_index()\\ndf_neighbldg.columns\\n\\ndf_neighbldg.columns = [\\'Neighborhood\\', \"BldgType\", \\'MeanPsqft\\']\\n\\ndf_neighbldg\\n\\ndf = pd.merge(df, df_neighbldg, on=[\\'Neighborhood\\',\\'BldgType\\'])\\n\\n'"
      ]
     },
     "execution_count": 616,
     "metadata": {},
     "output_type": "execute_result"
    }
   ],
   "source": [
    "'''\n",
    "df_neighbldg = df[:1460][[\"Neighborhood\", \"BldgType\", \"SalePrice\", \"LivingArea\"]]\n",
    "df_neighbldg['psqft'] = df_neighbldg[\"SalePrice\"]/df_neighbldg[\"LivingArea\"]\n",
    "print(df_neighbldg)\n",
    "df_neighbldg = df_neighbldg.groupby([\"Neighborhood\", \"BldgType\"]).agg({'psqft' : ['mean']})\n",
    "\n",
    "df_neighbldg=df_neighbldg.reset_index()\n",
    "df_neighbldg.columns\n",
    "\n",
    "df_neighbldg.columns = ['Neighborhood', \"BldgType\", 'MeanPsqft']\n",
    "\n",
    "df_neighbldg\n",
    "\n",
    "df = pd.merge(df, df_neighbldg, on=['Neighborhood','BldgType'])\n",
    "\n",
    "'''"
   ]
  },
  {
   "cell_type": "code",
   "execution_count": 617,
   "metadata": {},
   "outputs": [],
   "source": [
    "train = pd.read_csv('train.csv').set_index('Id')\n",
    "test = pd.read_csv('test.csv').set_index('Id')\n",
    "test['SalePrice'] = -1\n",
    "df = pd.concat([train,test], axis=0)\n",
    "#full_set.to_csv('full_set.csv')\n",
    "#full_set = full_set[train.columns]\n",
    "\n",
    "#DATA PROCESSING ========================================================================================\n",
    "\n",
    "\n",
    "train_part = df[1:1461]\n",
    "\n",
    "\n",
    "import itertools\n",
    "n = set(df['Neighborhood'])\n",
    "l = set(df['LotConfig'])\n",
    "combinations = list(itertools.product(n,l))\n",
    "combinations\n",
    "imputation_dict = train_part[train_part['LotFrontage'].notnull()].groupby(['Neighborhood'\n",
    "                                                        ,'LotConfig'])[['LotFrontage']].mean().round(2).to_dict()\n",
    "for key in combinations:\n",
    "    if key in imputation_dict['LotFrontage'].keys():\n",
    "        pass\n",
    "    else:\n",
    "        imputation_dict['LotFrontage'][(key[0], key[1])] = train_part[(train_part['Neighborhood'] == key[0]) \n",
    "                                & (train_part['LotFrontage'].notnull())][['LotFrontage']].mean().round(2).to_dict()['LotFrontage']\n",
    "impute_index = df['LotFrontage'].isnull()\n",
    "df.loc[impute_index,'LotFrontage'] = df[impute_index].apply(lambda x:\n",
    "                                    imputation_dict['LotFrontage'][(x['Neighborhood'], x['LotConfig'])], axis =1)\n",
    "#full_set['LotFrontage'].isna().sum()\n",
    "\n",
    "\n",
    "#df['LotFrontage'] = np.where((df['LotFrontage'].isna()),\n",
    " #                            ((np.log(df['LotArea'])* 0.5307)-0.6276),\n",
    "  #                           df['LotFrontage'])\n",
    "#df['LotFrontage'] = np.log(df['LotFrontage'])\n",
    "\n",
    "\n",
    "df['TotalBsmtSF'] = np.where((df['TotalBsmtSF'].isna()),0,df['TotalBsmtSF'])\n",
    "\n",
    "df['MSZoning'] = np.where((df['MSZoning'].isna()),df['MSZoning'].mode(),df['MSZoning'])\n",
    "df['Exterior1st'] = np.where((df['Exterior1st'].isna()),df['Exterior1st'].mode(),df['Exterior1st'])\n",
    "df['SaleType'] = np.where((df['SaleType'].isna()),df['SaleType'].mode(),df['SaleType'])\n",
    "df['GarageType'] = np.where((df['GarageType'].isna()),'None',df['GarageType'])\n",
    "\n",
    "df['BsmtFinSF1'] = np.where((df['BsmtFinSF1'].isna()),0,df['BsmtFinSF1'])\n",
    "\n",
    "df['BsmtFinSF1'] = np.where((df['BsmtFinSF1'].isna()),0,df['BsmtFinSF1'])\n",
    "df['BsmtFinSF2'] = np.where((df['BsmtFinSF2'].isna()),0,df['BsmtFinSF2'])\n",
    "df['BsmtUnfSF'] = np.where((df['BsmtUnfSF'].isna()),0,df['BsmtUnfSF'])\n",
    "df['BsmtFullBath'] = np.where((df['BsmtFullBath'].isna()),0,df['BsmtFullBath'])\n",
    "df['BsmtHalfBath'] = np.where((df['BsmtHalfBath'].isna()),0,df['BsmtHalfBath'])\n",
    "df['MasVnrArea'] = np.where((df['MasVnrArea'].isna()),0,df['MasVnrArea'])\n",
    "df['GarageCars'] = np.where((df['GarageCars'].isna()),0,df['GarageCars'])\n",
    "\n",
    "\n",
    "df['GarageArea'] = np.where((df['GarageArea'].isna()),df.loc[(df['GarageType']=='Detchd'),'GarageArea'].mean(),df['GarageArea'])\n",
    "\n",
    "df['Garage'] = 0\n",
    "df['Garage'] = np.where((df['GarageType'] == 'BuiltIn'),1,df['Garage'])\n",
    "df['Garage'] = np.where((df['GarageType'] == 'Basment'),1,df['Garage'])\n",
    "df['Garage'] = np.where((df['GarageType'] == '2Types'),0.5,df['Garage'])\n",
    "\n",
    "df['LivingArea'] = df['TotalBsmtSF']+df['GrLivArea']+df['GarageArea']*df['Garage']\n",
    "\n",
    "df['ConstArea'] = df['1stFlrSF']+df['GarageArea']*df['Garage']\n",
    "\n",
    "df['Yard'] = 0\n",
    "df['Yard'] = df['LotArea']-df['ConstArea']\n",
    "\n",
    "df['YardPerc'] = df['ConstArea']/df['LotArea']\n",
    "\n",
    "df['Bathrooms'] = df['FullBath'] + df['HalfBath']\n",
    "\n",
    "df['Pool'] = 0\n",
    "df['Pool'] = np.where((df['PoolArea'] > 0), 0, 1)\n",
    "\n",
    "df['ConstCost'] = df['GrLivArea'] * 100 + 4 * df['LotArea']\n",
    "\n",
    "df['TotalPorch'] = df['OpenPorchSF'] + df['EnclosedPorch'] + df['3SsnPorch'] + df['ScreenPorch'] + df['WoodDeckSF']\n",
    "#then drop the individual columns. Paul has done this in his script, but if you want to test it already this is in line with your code...\n",
    "\n",
    "temp_dict = dict([['StoneBr1Fam',90.4395973747988],['StoneBrTwnhsE',64.9650413081317],['NridgHt1Fam',80.1543151289586],['NridgHtTwnhs',65.1602983195312],['NridgHtTwnhsE',69.1353791634465],['NoRidge1Fam',72.0738507675531],['Veenker1Fam',66.0429078276295],['VeenkerTwnhsE',80.5042194092827],['Gilbert1Fam',68.3854903542442],['Gilbert2fmCon',54.0234724292101],['Somerst1Fam',68.2144072973843],['SomerstTwnhs',63.2701103604549],['SomerstTwnhsE',67.1788824758477],['Timber1Fam',66.7389414909238],['Timber2fmCon',60.0288411116938],['TimberTwnhsE',68.7389414909238],['Crawfor1Fam',66.3725911426128],['Crawfor2fmCon',54.5893602225313],['CrawforDuplex',42.227593738624],['CrawforTwnhsE',80.6373302358828],['CollgCr1Fam',62.6262950167203],['CollgCrDuplex',47.6262950167203],['CollgCrTwnhsE',67.8023156899811],['ClearCr1Fam',61.2119033661411],['ClearCrTwnhs',58.2119033661411],['SawyerW1Fam',61.1450936373841],['SawyerWDuplex',55.8753295978906],['SawyerWTwnhsE',54.9017441230636],['Blmngtn1Fam',54.7578767123288],['BlmngtnTwnhsE',60.150351985043],['NWAmes1Fam',56.301293015552],['NWAmes2fmCon',43.301293015552],['NWAmesDuplex',35.2847132104853],['BluesteTwnhs',55.431718061674],['BluesteTwnhsE',55.0603907637655],['Mitchel1Fam',57.6274194214023],['Mitchel2fmCon',47.3372781065089],['MitchelDuplex',46.4664009742057],['MitchelTwnhs',57.8687367678193],['MitchelTwnhsE',55.5553243149497],['BrkSide1Fam',55.1598006041819],['BrkSide2fmCon',51.792828685259],['NPkVillTwnhs',53.7742170429716],['NPkVillTwnhsE',54.6368773137624],['Sawyer1Fam',54.9031233267892],['Sawyer2fmCon',50.9279628195197],['SawyerDuplex',41.0229742817174],['NAmes1Fam',53.9106785412273],['NAmes2fmCon',71.9039548022599],['NAmesDuplex',42.0147234693277],['NAmesTwnhsE',61.4473581213307],['BrDaleTwnhs',53.5906850987746],['BrDaleTwnhsE',47.9123945489942],['Edwards1Fam',50.1959140532244],['Edwards2fmCon',49.3992365555181],['EdwardsDuplex',56.7003610108303],['EdwardsTwnhs',43.3146997929607],['EdwardsTwnhsE',71.0762529983588],['MeadowVTwnhs',57.2698772426818],['MeadowVTwnhsE',47.9567654841458],['SWISU1Fam',49.4898887276246],['SWISU2fmCon',49.8638511814982],['SWISUDuplex',41.6768699545614],['OldTown1Fam',49.2350787555647],['OldTown2fmCon',41.1327129667974],['OldTownDuplex',47.7662535079514],['IDOTRR1Fam',45.1213106618607],['IDOTRR2fmCon',58.958157227388],['IDOTRRDuplex',51.2104283054004]])\n",
    "df['neigh_BldgType'] = list(map(lambda x,y: temp_dict[str(x) + str(y)],df['Neighborhood'],df['BldgType']))"
   ]
  },
  {
   "cell_type": "code",
   "execution_count": 618,
   "metadata": {},
   "outputs": [],
   "source": [
    "#Convert into string Categorical Columns\n",
    "df.MSSubClass = df.MSSubClass.astype(str)\n",
    "#df.OverallQual = df.OverallQual.astype(str)\n",
    "#df.OverallCond = df.OverallCond.astype(str)\n",
    "df.YrSold = df.YrSold.astype(str)\n",
    "df.MoSold = df.MoSold.astype(str)\n",
    "\n",
    "#Eliminated LotFrontage and GarageYrBuilt\n",
    "cols_to_keep = ['MSSubClass', 'LotArea', 'Street', 'Alley',\n",
    "       'LotShape', 'LandContour', 'LotConfig', 'LandSlope',\n",
    "       'Neighborhood', 'Condition1', 'BldgType', 'HouseStyle',\n",
    "       'OverallQual', 'OverallCond',\n",
    "       'YearBuilt', 'YearRemodAdd',\n",
    "       'RoofStyle',\n",
    "       'RoofMatl', 'Exterior2nd', 'MasVnrType', 'MasVnrArea',\n",
    "       'Foundation', 'BsmtQual', 'BsmtCond',\n",
    "       'BsmtExposure', 'BsmtFinType1', 'BsmtFinSF1', 'BsmtFinType2',\n",
    "       'BsmtFinSF2', 'BsmtUnfSF', 'TotalBsmtSF', 'Heating', 'HeatingQC',\n",
    "       'CentralAir', 'LowQualFinSF',\n",
    "       'GrLivArea',\n",
    "       'BedroomAbvGr', 'KitchenAbvGr', 'KitchenQual',\n",
    "       'Functional', 'Fireplaces', 'GarageType',\n",
    "       'GarageFinish', 'GarageCars', 'GarageQual', 'GarageCond',\n",
    "       'neigh_BldgType',\n",
    "       'LivingArea',\n",
    "#       'ConstCost',\n",
    "#       'WoodDeckSF', 'OpenPorchSF', 'EnclosedPorch', '3SsnPorch','ScreenPorch', \n",
    "       'MoSold', 'SaleType', 'SaleCondition', 'SalePrice', 'Garage',\n",
    "       'YardPerc', 'Bathrooms','TotalPorch','LotFrontage']\n",
    "\n",
    "\n",
    "data = df[cols_to_keep]\n",
    "#data = df[:]\n"
   ]
  },
  {
   "cell_type": "code",
   "execution_count": 619,
   "metadata": {},
   "outputs": [
    {
     "name": "stderr",
     "output_type": "stream",
     "text": [
      "/opt/anaconda3/lib/python3.7/site-packages/ipykernel_launcher.py:14: SettingWithCopyWarning: \n",
      "A value is trying to be set on a copy of a slice from a DataFrame.\n",
      "Try using .loc[row_indexer,col_indexer] = value instead\n",
      "\n",
      "See the caveats in the documentation: http://pandas.pydata.org/pandas-docs/stable/user_guide/indexing.html#returning-a-view-versus-a-copy\n",
      "  \n"
     ]
    }
   ],
   "source": [
    "categorical = []\n",
    "numerical = []\n",
    "\n",
    "for col in data.columns:\n",
    "    if data[col].dtype in ['object']:\n",
    "        categorical.append(col)\n",
    "    else:\n",
    "        numerical.append(col)\n",
    "            \n",
    "columns_to_square = ['LotArea','TotalBsmtSF','GrLivArea']\n",
    "#SQUARE OF VARIABLES\n",
    "for col in columns_to_square:\n",
    "    new_col = str(col) + \"_sq\"\n",
    "    data[new_col] = np.log(data[col]+1)"
   ]
  },
  {
   "cell_type": "code",
   "execution_count": 620,
   "metadata": {},
   "outputs": [],
   "source": [
    "#print(data.columns)\n",
    "sc = data.sort_values(by=['SalePrice'])['SaleCondition']\n",
    "mssub = data.sort_values(by=['SalePrice'])['MSSubClass'] \n",
    "st = data.sort_values(by=['SalePrice'])['SaleType'] \n",
    "ms = data.sort_values(by=['SalePrice'])['MoSold'] \n",
    "lc = data.sort_values(by=['SalePrice'])['LotConfig']\n",
    "bldgtype = data.sort_values(by=['SalePrice'])['BldgType']\n",
    "oq =  data.sort_values(by=['SalePrice'])['OverallQual']\n",
    "nbhd =  data.sort_values(by=['SalePrice'])['Neighborhood']"
   ]
  },
  {
   "cell_type": "code",
   "execution_count": 621,
   "metadata": {},
   "outputs": [
    {
     "data": {
      "text/plain": [
       "\"\\ntrainData = data[:1460]\\ntrainData['spgla'] = trainData.SalePrice/trainData.GrLivArea\\n\\nkdf = cluster_fun.cluster(4, trainData[['Neighborhood', 'spgla']]) #n tot = 25\\ndata = cluster_fun.kReplace(data.reset_index(), kdf, 'Neighborhood', 'spgla')\\n\\ncategorical.remove('Neighborhood')\\ndata = data.drop(['Neighborhood'], axis = 1)\\n\\n\""
      ]
     },
     "execution_count": 621,
     "metadata": {},
     "output_type": "execute_result"
    }
   ],
   "source": [
    "'''\n",
    "trainData = data[:1460]\n",
    "trainData['spgla'] = trainData.SalePrice/trainData.GrLivArea\n",
    "\n",
    "kdf = cluster_fun.cluster(4, trainData[['Neighborhood', 'spgla']]) #n tot = 25\n",
    "data = cluster_fun.kReplace(data.reset_index(), kdf, 'Neighborhood', 'spgla')\n",
    "\n",
    "categorical.remove('Neighborhood')\n",
    "data = data.drop(['Neighborhood'], axis = 1)\n",
    "\n",
    "'''"
   ]
  },
  {
   "cell_type": "code",
   "execution_count": 622,
   "metadata": {},
   "outputs": [],
   "source": [
    "#Dummies ===========================================================================\n",
    "\n",
    "data = pd.get_dummies(data, prefix_sep = '_', columns=categorical, drop_first = True)\n",
    "np.sum(data.isna())\n",
    "#numerical_columns = list(set(cols_to_keep).difference(set(categorical_columns)))\n",
    "\n",
    "data= data.drop([31,411,524,534,592,677,689,804,1047,1299])\n",
    "data= data.drop([363,390,496,633,729,770,899,969,1063,1182])\n",
    "\n",
    "data= data.drop([250, 314, 336, 707])\n",
    "\n",
    "#KNN\n",
    "y_knn = np.array(data['SalePrice'] / data['GrLivArea'])\n",
    "y_knn = y_knn[y_knn > 0]\n",
    "\n",
    "x_knn = pd.DataFrame()\n",
    "x_knn['GrLivArea'] = data['GrLivArea'][data['SalePrice']>0]\n",
    "x_knn['OverallQual'] = 1\n",
    "xTe_knn = pd.DataFrame()\n",
    "xTe_knn['GrLivArea'] = data['GrLivArea'][data['SalePrice']<=0]\n",
    "xTe_knn['OverallQual'] = 1\n",
    "\n",
    "x_knn = np.array(x_knn)\n",
    "xTe_knn = np.array(xTe_knn)\n",
    "y_knn = np.array(y_knn)\n",
    "\n",
    "#indices, distances = knn(x_knn,x_knn,5)\n",
    "#knn_preds_train = knn_predictions(xTrain,yTrain,xTest,k):\n",
    "knn_preds_train = knn_predictions(x_knn,y_knn,x_knn,5)\n",
    "knn_preds_test = knn_predictions(x_knn,y_knn,xTe_knn,5)\n",
    "\n",
    "data['knn_GrLivArea'] = np.array(pd.concat([pd.DataFrame(knn_preds_train),pd.DataFrame(knn_preds_test)]))\n",
    "\n",
    "yTr = data.SalePrice[data['SalePrice']>=0]\n",
    "xTr = data[data['SalePrice']>=0].drop(['SalePrice'], axis=1)\n",
    "xTe = data[data['SalePrice']==-1].drop(['SalePrice'], axis=1)\n"
   ]
  },
  {
   "cell_type": "code",
   "execution_count": 623,
   "metadata": {},
   "outputs": [
    {
     "name": "stdout",
     "output_type": "stream",
     "text": [
      "\n",
      "Linear - - - - - - - - - - - - - - - - - - - - \n",
      "Accuracy:  0.9516\n",
      "RMSLE =  0.1116\n",
      "Cross-Val Score = 22644.0\n"
     ]
    }
   ],
   "source": [
    "x = xTr[:]\n",
    "y = np.log(yTr[:])\n",
    "\n",
    "#==================================================================================\n",
    "\n",
    "\n",
    "np.random.seed(0)\n",
    "print(\"\\nLinear\",\"- \"*20)\n",
    "ols = linear_model.LinearRegression()\n",
    "ols.fit(x, y)\n",
    "evaluate_model(ols, x, y, 5)"
   ]
  },
  {
   "cell_type": "code",
   "execution_count": 640,
   "metadata": {},
   "outputs": [
    {
     "ename": "ValueError",
     "evalue": "endog must be a vector",
     "output_type": "error",
     "traceback": [
      "\u001b[0;31m---------------------------------------------------------------------------\u001b[0m",
      "\u001b[0;31mValueError\u001b[0m                                Traceback (most recent call last)",
      "\u001b[0;32m<ipython-input-640-03accd26274a>\u001b[0m in \u001b[0;36m<module>\u001b[0;34m\u001b[0m\n\u001b[1;32m      2\u001b[0m \u001b[0mx\u001b[0m \u001b[0;34m=\u001b[0m \u001b[0mnp\u001b[0m\u001b[0;34m.\u001b[0m\u001b[0marray\u001b[0m\u001b[0;34m(\u001b[0m\u001b[0mx\u001b[0m\u001b[0;34m)\u001b[0m\u001b[0;34m.\u001b[0m\u001b[0mreshape\u001b[0m\u001b[0;34m(\u001b[0m\u001b[0;34m-\u001b[0m\u001b[0;36m1\u001b[0m\u001b[0;34m,\u001b[0m\u001b[0;36m1\u001b[0m\u001b[0;34m)\u001b[0m\u001b[0;34m\u001b[0m\u001b[0;34m\u001b[0m\u001b[0m\n\u001b[1;32m      3\u001b[0m \u001b[0;34m\u001b[0m\u001b[0m\n\u001b[0;32m----> 4\u001b[0;31m \u001b[0mlowess\u001b[0m \u001b[0;34m=\u001b[0m \u001b[0msm\u001b[0m\u001b[0;34m.\u001b[0m\u001b[0mnonparametric\u001b[0m\u001b[0;34m.\u001b[0m\u001b[0mlowess\u001b[0m\u001b[0;34m(\u001b[0m\u001b[0mx\u001b[0m\u001b[0;34m,\u001b[0m\u001b[0my\u001b[0m\u001b[0;34m,\u001b[0m \u001b[0mfrac\u001b[0m\u001b[0;34m=\u001b[0m\u001b[0;36m.3\u001b[0m\u001b[0;34m)\u001b[0m\u001b[0;34m\u001b[0m\u001b[0;34m\u001b[0m\u001b[0m\n\u001b[0m",
      "\u001b[0;32m/opt/anaconda3/lib/python3.7/site-packages/statsmodels/nonparametric/smoothers_lowess.py\u001b[0m in \u001b[0;36mlowess\u001b[0;34m(endog, exog, frac, it, delta, is_sorted, missing, return_sorted)\u001b[0m\n\u001b[1;32m    133\u001b[0m         \u001b[0;32mraise\u001b[0m \u001b[0mValueError\u001b[0m\u001b[0;34m(\u001b[0m\u001b[0;34m'exog must be a vector'\u001b[0m\u001b[0;34m)\u001b[0m\u001b[0;34m\u001b[0m\u001b[0;34m\u001b[0m\u001b[0m\n\u001b[1;32m    134\u001b[0m     \u001b[0;32mif\u001b[0m \u001b[0mendog\u001b[0m\u001b[0;34m.\u001b[0m\u001b[0mndim\u001b[0m \u001b[0;34m!=\u001b[0m \u001b[0;36m1\u001b[0m\u001b[0;34m:\u001b[0m\u001b[0;34m\u001b[0m\u001b[0;34m\u001b[0m\u001b[0m\n\u001b[0;32m--> 135\u001b[0;31m         \u001b[0;32mraise\u001b[0m \u001b[0mValueError\u001b[0m\u001b[0;34m(\u001b[0m\u001b[0;34m'endog must be a vector'\u001b[0m\u001b[0;34m)\u001b[0m\u001b[0;34m\u001b[0m\u001b[0;34m\u001b[0m\u001b[0m\n\u001b[0m\u001b[1;32m    136\u001b[0m     \u001b[0;32mif\u001b[0m \u001b[0mendog\u001b[0m\u001b[0;34m.\u001b[0m\u001b[0mshape\u001b[0m\u001b[0;34m[\u001b[0m\u001b[0;36m0\u001b[0m\u001b[0;34m]\u001b[0m \u001b[0;34m!=\u001b[0m \u001b[0mexog\u001b[0m\u001b[0;34m.\u001b[0m\u001b[0mshape\u001b[0m\u001b[0;34m[\u001b[0m\u001b[0;36m0\u001b[0m\u001b[0;34m]\u001b[0m \u001b[0;34m:\u001b[0m\u001b[0;34m\u001b[0m\u001b[0;34m\u001b[0m\u001b[0m\n\u001b[1;32m    137\u001b[0m         \u001b[0;32mraise\u001b[0m \u001b[0mValueError\u001b[0m\u001b[0;34m(\u001b[0m\u001b[0;34m'exog and endog must have same length'\u001b[0m\u001b[0;34m)\u001b[0m\u001b[0;34m\u001b[0m\u001b[0;34m\u001b[0m\u001b[0m\n",
      "\u001b[0;31mValueError\u001b[0m: endog must be a vector"
     ]
    }
   ],
   "source": [
    "y = np.array(y).flatten()\n",
    "x = np.array(x).reshape(-1,1)\n",
    "\n",
    "lowess = sm.nonparametric.lowess(x,y, frac=.3)"
   ]
  },
  {
   "cell_type": "code",
   "execution_count": 384,
   "metadata": {},
   "outputs": [
    {
     "name": "stdout",
     "output_type": "stream",
     "text": [
      "\n",
      "Ridge - - - - - - - - - - - - - - - - - - - - \n",
      "Accuracy:  0.9472\n",
      "RMSLE =  0.1066\n",
      "Cross-Val Score = 22694.0\n",
      "\n",
      "Lasso - - - - - - - - - - - - - - - - - - - - \n",
      "Best alpha =  6.77150050408989e-05\n",
      "Accuracy:  0.9428\n",
      "RMSLE =  0.1025\n",
      "Cross-Val Score = 21902.0\n"
     ]
    }
   ],
   "source": [
    "np.random.seed(1)\n",
    "print(\"\\nRidge\",\"- \"*20)\n",
    "ridge = linear_model.RidgeCV(   alphas=np.arange(0.05,4,0.01),\n",
    "                                normalize=[True,False],\n",
    "                                fit_intercept=[True,False])\n",
    "ridge.fit(x, y)\n",
    "#best_alpha = ridge.alpha_\n",
    "#print(\"Best alpha = \",best_alpha)\n",
    "#ridge = linear_model.Ridge(ridge.alpha_,normalize=True)\n",
    "#ridge.fit(x, y)\n",
    "evaluate_model(ridge, x, y, 5)\n",
    "\n",
    "\n",
    "print(\"\\nLasso\",\"- \"*20)\n",
    "lasso = linear_model.LassoCV(eps=0.001, n_alphas=100, cv=5, normalize=True, max_iter=1000000)\n",
    "lasso.fit(x, y)\n",
    "print(\"Best alpha = \",lasso.alpha_)\n",
    "evaluate_model(lasso, x, y, 5)\n",
    "\n"
   ]
  },
  {
   "cell_type": "code",
   "execution_count": 385,
   "metadata": {},
   "outputs": [
    {
     "name": "stdout",
     "output_type": "stream",
     "text": [
      "\n",
      "ElasticNet - - - - - - - - - - - - - - - - - - - - \n",
      "Accuracy:  0.9426\n",
      "RMSLE =  0.1028\n",
      "Cross-Val Score = 21904.0\n"
     ]
    }
   ],
   "source": [
    "\n",
    "print(\"\\nElasticNet\",\"- \"*20)\n",
    "\n",
    "elastic = linear_model.ElasticNetCV(  l1_ratio=[.1,.2,.3,.4,.5,.6,.7,.8,.9,1],\n",
    "                            eps=0.001,\n",
    "                            n_alphas=100,\n",
    "                            fit_intercept=True,\n",
    "                            normalize=True,\n",
    "                            precompute='auto',\n",
    "                            max_iter=10000,\n",
    "                            tol=0.00001,\n",
    "                            cv=5, n_jobs=-1, positive=False)\n",
    "\n",
    "elastic.fit(x, y)\n",
    "#print(\"Best alpha = \",lasso.alpha_)\n",
    "evaluate_model(elastic, x, y, 5)"
   ]
  },
  {
   "cell_type": "code",
   "execution_count": 386,
   "metadata": {},
   "outputs": [
    {
     "name": "stdout",
     "output_type": "stream",
     "text": [
      "\n",
      "GBoosting - - - - - - - - - - - - - - - - - - - - \n",
      "Accuracy:  0.9894\n",
      "RMSLE =  0.1112\n",
      "Cross-Val Score = 20151.0\n",
      "\n",
      "GBoosting 2 - - - - - - - - - - - - - - - - - - - - \n",
      "Accuracy:  0.9738\n",
      "RMSLE =  0.1059\n",
      "Cross-Val Score = 19867.0\n"
     ]
    }
   ],
   "source": [
    "np.random.seed(0)\n",
    "print(\"\\nGBoosting\",\"- \"*20)\n",
    "boost = GradientBoostingRegressor(n_estimators = 500)\n",
    "boost.fit(x, y)\n",
    "evaluate_model(boost, x, y, 5)\n",
    "\n",
    "\n",
    "np.random.seed(0)\n",
    "param_grid = [\n",
    "    {'subsample':[0.5,1],\n",
    "    'learning_rate':[0.025,0.05,0.1],\n",
    "    'max_depth':[2,3,4],\n",
    "    'loss':['huber'],\n",
    "    'n_estimators':[500]}\n",
    "            ]\n",
    "#boost = GradientBoostingRegressor()\n",
    "grid_search = GridSearchCV(boost,param_grid, cv=5, scoring='neg_mean_squared_error',return_train_score=True, n_jobs=-1)\n",
    "np.random.seed(0)\n",
    "grid_search.fit(x,y)\n",
    "#print(grid_search.best_params_)\n",
    "print(\"\\nGBoosting 2\",\"- \"*20)\n",
    "boost2 = grid_search.best_estimator_\n",
    "boost2.fit(x, y)\n",
    "\n",
    "evaluate_model(boost2, x, y, 5)"
   ]
  },
  {
   "cell_type": "code",
   "execution_count": 387,
   "metadata": {},
   "outputs": [
    {
     "ename": "AttributeError",
     "evalue": "'PolynomialFeatures' object has no attribute 'predict'",
     "output_type": "error",
     "traceback": [
      "\u001b[0;31m---------------------------------------------------------------------------\u001b[0m",
      "\u001b[0;31mAttributeError\u001b[0m                            Traceback (most recent call last)",
      "\u001b[0;32m<ipython-input-387-f76478218e93>\u001b[0m in \u001b[0;36m<module>\u001b[0;34m\u001b[0m\n\u001b[1;32m      1\u001b[0m \u001b[0mpoly\u001b[0m \u001b[0;34m=\u001b[0m \u001b[0mPolynomialFeatures\u001b[0m\u001b[0;34m(\u001b[0m\u001b[0;34m)\u001b[0m\u001b[0;34m\u001b[0m\u001b[0;34m\u001b[0m\u001b[0m\n\u001b[1;32m      2\u001b[0m \u001b[0mpoly\u001b[0m\u001b[0;34m.\u001b[0m\u001b[0mfit_transform\u001b[0m\u001b[0;34m(\u001b[0m\u001b[0mx\u001b[0m\u001b[0;34m,\u001b[0m\u001b[0my\u001b[0m\u001b[0;34m)\u001b[0m\u001b[0;34m\u001b[0m\u001b[0;34m\u001b[0m\u001b[0m\n\u001b[0;32m----> 3\u001b[0;31m \u001b[0mpolyy\u001b[0m \u001b[0;34m=\u001b[0m \u001b[0mpoly\u001b[0m\u001b[0;34m.\u001b[0m\u001b[0mpredict\u001b[0m\u001b[0;34m(\u001b[0m\u001b[0mxTe\u001b[0m\u001b[0;34m)\u001b[0m\u001b[0;34m\u001b[0m\u001b[0;34m\u001b[0m\u001b[0m\n\u001b[0m\u001b[1;32m      4\u001b[0m \u001b[0;31m#evaluate_model(poly, x, y, 5)\u001b[0m\u001b[0;34m\u001b[0m\u001b[0;34m\u001b[0m\u001b[0;34m\u001b[0m\u001b[0m\n",
      "\u001b[0;31mAttributeError\u001b[0m: 'PolynomialFeatures' object has no attribute 'predict'"
     ]
    }
   ],
   "source": [
    "poly = PolynomialFeatures()\n",
    "poly.fit_transform(x,y)\n",
    "polyy = poly.predict(xTe)\n",
    "#evaluate_model(poly, x, y, 5)"
   ]
  },
  {
   "cell_type": "code",
   "execution_count": 388,
   "metadata": {},
   "outputs": [
    {
     "name": "stdout",
     "output_type": "stream",
     "text": [
      "\n",
      "Ensemble - VotingRegressor - - - - - - - - - - - - - - - - - - - - \n",
      "Accuracy:  0.9741\n",
      "RMSLE =  0.101\n",
      "Cross-Val Score = 19075.0\n"
     ]
    }
   ],
   "source": [
    "print(\"\\nEnsemble - VotingRegressor\",\"- \"*20)\n",
    "ereg = VotingRegressor(estimators=[ ('gb2', boost2),\n",
    "                                    ('gb', boost),\n",
    "                                    ('lr', ridge),\n",
    "                                    ('ls', lasso)],\n",
    "                                    weights=[0.3, 0.3, 0.2, 0.2],\n",
    "                                    n_jobs = -1)\n",
    "ereg.fit(x, y)\n",
    "ereg.predict(xTe)\n",
    "evaluate_model(ereg, x, y, 5)\n",
    "\n"
   ]
  },
  {
   "cell_type": "code",
   "execution_count": 154,
   "metadata": {},
   "outputs": [],
   "source": [
    "pd.DataFrame(np.exp(ereg.predict(xTe))).to_csv('eregpredneweights.csv')"
   ]
  },
  {
   "cell_type": "code",
   "execution_count": 393,
   "metadata": {},
   "outputs": [],
   "source": [
    "'''\n",
    "temp = pd.DataFrame(ereg.predict(xTe))\n",
    "temp = ((temp*transf_yTr_lambda)+1)**(1/transf_yTr_lambda)\n",
    "idx = range(1461,2920)\n",
    "temp.index=idx\n",
    "temp=temp.reset_index()\n",
    "temp.columns=['Id','SalePrice']\n",
    "temp.to_csv('ereg.csv',index=False)\n",
    "\n",
    "\n",
    "lmbda=transf_yTr_lambda\n",
    "prediction = pd.DataFrame()\n",
    "prediction['ols'] = np.exp(ols.predict(xTr),lmbda)\n",
    "prediction['ridge'] = np.exp(ridge.predict(xTr),lmbda)\n",
    "prediction['lasso'] = np.exp(lasso.predict(xTr),lmbda)\n",
    "prediction['elastic'] = np.exp(elastic.predict(xTr),lmbda)\n",
    "prediction['boost'] = np.exp(boost.predict(xTr),lmbda)\n",
    "prediction['boost2'] = np.exp(boost2.predict(xTr),lmbda)\n",
    "prediction['ereg'] = np.exp(ereg.predict(xTr),lmbda)\n",
    "prediction['y'] = np.exp(yTr,lmbda)\n",
    "prediction.to_csv('prediction_train.csv')\n",
    "'''\n",
    "\n",
    "prediction_xte = pd.DataFrame()\n",
    "prediction_xte['ols'] = np.exp(ols.predict(xTe))\n",
    "prediction_xte['ridge'] = np.exp(ridge.predict(xTe))\n",
    "prediction_xte['lasso'] = np.exp(lasso.predict(xTe))\n",
    "prediction_xte['elastic'] = np.exp(elastic.predict(xTe))\n",
    "prediction_xte['boost'] = np.exp(boost.predict(xTe))\n",
    "prediction_xte['boost2'] = np.exp(boost2.predict(xTe))\n",
    "prediction_xte['ereg'] = np.exp(ereg.predict(xTe))\n",
    "prediction_xte.to_csv('prediction_test.csv')"
   ]
  },
  {
   "cell_type": "code",
   "execution_count": 394,
   "metadata": {},
   "outputs": [],
   "source": [
    "#plt.figure()\n",
    "corr = data.corr()\n",
    "corr.to_csv('corr.csv')\n",
    "#sns.heatmap(corr)\n",
    "\n",
    "#=================================================================================="
   ]
  },
  {
   "cell_type": "code",
   "execution_count": 398,
   "metadata": {},
   "outputs": [],
   "source": [
    "data_graph = data.sort_values(by=['SalePrice'])\n",
    "yt = data_graph.SalePrice[data['SalePrice']>=0]\n",
    "\n",
    "sc = sc[yt.index]\n",
    "mssub = mssub[yt.index]\n",
    "or_id = yt.index\n",
    "\n",
    "xt = data_graph[data_graph['SalePrice']>=0].drop(['SalePrice'], axis=1)\n",
    "\n"
   ]
  },
  {
   "cell_type": "code",
   "execution_count": 401,
   "metadata": {},
   "outputs": [],
   "source": [
    "data_graph = data.sort_values(by=['SalePrice'])\n",
    "yt = data_graph.SalePrice[data['SalePrice']>=0]\n",
    "\n",
    "sc = sc[yt.index]\n",
    "mssub = mssub[yt.index]\n",
    "st = st[yt.index]\n",
    "ms = ms[yt.index]\n",
    "lc = lc[yt.index]\n",
    "bldgtype = bldgtype[yt.index]\n",
    "oq = oq[yt.index]\n",
    "nbhd = nbhd[yt.index]\n",
    "\n",
    "\n",
    "or_id = yt.index\n",
    "\n",
    "xt = data_graph[data_graph['SalePrice']>=0].drop(['SalePrice'], axis=1)\n"
   ]
  },
  {
   "cell_type": "code",
   "execution_count": 641,
   "metadata": {},
   "outputs": [
    {
     "name": "stdout",
     "output_type": "stream",
     "text": [
      "      SalePrice  Residuals (EREG)  Residuals (Lasso)  Residuals (Ridge)  \\\n",
      "Id                                                                        \n",
      "917       35311      10725.061050       34508.108603       40096.728808   \n",
      "711       52000       4918.335688       25620.166786       33176.949800   \n",
      "1338      52500       4663.465954       21686.848061       23066.142742   \n",
      "706       55000       7254.126331         186.288496        5233.837150   \n",
      "1326      55000       5409.871721       27657.373942       38210.936491   \n",
      "...         ...               ...                ...                ...   \n",
      "179      501837     -33883.322978      -65798.592142      -59579.896861   \n",
      "441      555000      -7716.092512      -40103.023626      -36412.939345   \n",
      "1170     625000     -22803.732752      -51826.774757      -46608.222126   \n",
      "1183     745000     -50739.171899      -35877.094877      -92617.926854   \n",
      "692      755000     -11334.037764      -15140.370723        6766.620881   \n",
      "\n",
      "      Residuals (Boost)  Residuals (OLS)  Residuals (OLS-Paul)  \n",
      "Id                                                              \n",
      "917           93.309476     18406.142986           145247.8681  \n",
      "711         1026.116707      7022.513637           182854.3974  \n",
      "1338        1026.152333      7693.776499            69798.7234  \n",
      "706          679.597190     11344.646242            97394.4428  \n",
      "1326         952.173420      5891.293466           133133.9827  \n",
      "...                 ...              ...                   ...  \n",
      "179       -12791.831408    -23941.636822          -341824.7193  \n",
      "441         9701.694648      8910.952783          -434443.0229  \n",
      "1170       -4428.369502    -38627.977357          -468833.6026  \n",
      "1183       -2752.428939    -99609.960571          -619861.4771  \n",
      "692       -10126.031048     -5972.439832          -541742.4101  \n",
      "\n",
      "[1436 rows x 7 columns]\n"
     ]
    },
    {
     "ename": "KeyError",
     "evalue": "\"['Log Sale Price'] not in index\"",
     "output_type": "error",
     "traceback": [
      "\u001b[0;31m---------------------------------------------------------------------------\u001b[0m",
      "\u001b[0;31mKeyError\u001b[0m                                  Traceback (most recent call last)",
      "\u001b[0;32m<ipython-input-641-c2c4ce098232>\u001b[0m in \u001b[0;36m<module>\u001b[0;34m\u001b[0m\n\u001b[1;32m     48\u001b[0m \u001b[0mresid_df1\u001b[0m \u001b[0;34m=\u001b[0m \u001b[0mresid_df\u001b[0m\u001b[0;34m[\u001b[0m\u001b[0mresid_df\u001b[0m\u001b[0;34m[\u001b[0m\u001b[0;34m'variable'\u001b[0m\u001b[0;34m]\u001b[0m\u001b[0;34m.\u001b[0m\u001b[0misin\u001b[0m\u001b[0;34m(\u001b[0m\u001b[0;34m[\u001b[0m\u001b[0;34m\"Lasso\"\u001b[0m\u001b[0;34m,\u001b[0m\u001b[0;34m\"Ridge\"\u001b[0m\u001b[0;34m]\u001b[0m\u001b[0;34m)\u001b[0m\u001b[0;34m]\u001b[0m\u001b[0;34m\u001b[0m\u001b[0;34m\u001b[0m\u001b[0m\n\u001b[1;32m     49\u001b[0m sns.lmplot(y = 'Residuals/Actual Sale Price',\n\u001b[0;32m---> 50\u001b[0;31m            x= \"Log Sale Price\", hue = \"variable\", data=resid_df1, fit_reg=False);\n\u001b[0m",
      "\u001b[0;32m/opt/anaconda3/lib/python3.7/site-packages/seaborn/regression.py\u001b[0m in \u001b[0;36mlmplot\u001b[0;34m(x, y, data, hue, col, row, palette, col_wrap, height, aspect, markers, sharex, sharey, hue_order, col_order, row_order, legend, legend_out, x_estimator, x_bins, x_ci, scatter, fit_reg, ci, n_boot, units, order, logistic, lowess, robust, logx, x_partial, y_partial, truncate, x_jitter, y_jitter, scatter_kws, line_kws, size)\u001b[0m\n\u001b[1;32m    549\u001b[0m     \u001b[0mneed_cols\u001b[0m \u001b[0;34m=\u001b[0m \u001b[0;34m[\u001b[0m\u001b[0mx\u001b[0m\u001b[0;34m,\u001b[0m \u001b[0my\u001b[0m\u001b[0;34m,\u001b[0m \u001b[0mhue\u001b[0m\u001b[0;34m,\u001b[0m \u001b[0mcol\u001b[0m\u001b[0;34m,\u001b[0m \u001b[0mrow\u001b[0m\u001b[0;34m,\u001b[0m \u001b[0munits\u001b[0m\u001b[0;34m,\u001b[0m \u001b[0mx_partial\u001b[0m\u001b[0;34m,\u001b[0m \u001b[0my_partial\u001b[0m\u001b[0;34m]\u001b[0m\u001b[0;34m\u001b[0m\u001b[0;34m\u001b[0m\u001b[0m\n\u001b[1;32m    550\u001b[0m     \u001b[0mcols\u001b[0m \u001b[0;34m=\u001b[0m \u001b[0mnp\u001b[0m\u001b[0;34m.\u001b[0m\u001b[0munique\u001b[0m\u001b[0;34m(\u001b[0m\u001b[0;34m[\u001b[0m\u001b[0ma\u001b[0m \u001b[0;32mfor\u001b[0m \u001b[0ma\u001b[0m \u001b[0;32min\u001b[0m \u001b[0mneed_cols\u001b[0m \u001b[0;32mif\u001b[0m \u001b[0ma\u001b[0m \u001b[0;32mis\u001b[0m \u001b[0;32mnot\u001b[0m \u001b[0;32mNone\u001b[0m\u001b[0;34m]\u001b[0m\u001b[0;34m)\u001b[0m\u001b[0;34m.\u001b[0m\u001b[0mtolist\u001b[0m\u001b[0;34m(\u001b[0m\u001b[0;34m)\u001b[0m\u001b[0;34m\u001b[0m\u001b[0;34m\u001b[0m\u001b[0m\n\u001b[0;32m--> 551\u001b[0;31m     \u001b[0mdata\u001b[0m \u001b[0;34m=\u001b[0m \u001b[0mdata\u001b[0m\u001b[0;34m[\u001b[0m\u001b[0mcols\u001b[0m\u001b[0;34m]\u001b[0m\u001b[0;34m\u001b[0m\u001b[0;34m\u001b[0m\u001b[0m\n\u001b[0m\u001b[1;32m    552\u001b[0m \u001b[0;34m\u001b[0m\u001b[0m\n\u001b[1;32m    553\u001b[0m     \u001b[0;31m# Initialize the grid\u001b[0m\u001b[0;34m\u001b[0m\u001b[0;34m\u001b[0m\u001b[0;34m\u001b[0m\u001b[0m\n",
      "\u001b[0;32m/opt/anaconda3/lib/python3.7/site-packages/pandas/core/frame.py\u001b[0m in \u001b[0;36m__getitem__\u001b[0;34m(self, key)\u001b[0m\n\u001b[1;32m   2984\u001b[0m             \u001b[0;32mif\u001b[0m \u001b[0mis_iterator\u001b[0m\u001b[0;34m(\u001b[0m\u001b[0mkey\u001b[0m\u001b[0;34m)\u001b[0m\u001b[0;34m:\u001b[0m\u001b[0;34m\u001b[0m\u001b[0;34m\u001b[0m\u001b[0m\n\u001b[1;32m   2985\u001b[0m                 \u001b[0mkey\u001b[0m \u001b[0;34m=\u001b[0m \u001b[0mlist\u001b[0m\u001b[0;34m(\u001b[0m\u001b[0mkey\u001b[0m\u001b[0;34m)\u001b[0m\u001b[0;34m\u001b[0m\u001b[0;34m\u001b[0m\u001b[0m\n\u001b[0;32m-> 2986\u001b[0;31m             \u001b[0mindexer\u001b[0m \u001b[0;34m=\u001b[0m \u001b[0mself\u001b[0m\u001b[0;34m.\u001b[0m\u001b[0mloc\u001b[0m\u001b[0;34m.\u001b[0m\u001b[0m_convert_to_indexer\u001b[0m\u001b[0;34m(\u001b[0m\u001b[0mkey\u001b[0m\u001b[0;34m,\u001b[0m \u001b[0maxis\u001b[0m\u001b[0;34m=\u001b[0m\u001b[0;36m1\u001b[0m\u001b[0;34m,\u001b[0m \u001b[0mraise_missing\u001b[0m\u001b[0;34m=\u001b[0m\u001b[0;32mTrue\u001b[0m\u001b[0;34m)\u001b[0m\u001b[0;34m\u001b[0m\u001b[0;34m\u001b[0m\u001b[0m\n\u001b[0m\u001b[1;32m   2987\u001b[0m \u001b[0;34m\u001b[0m\u001b[0m\n\u001b[1;32m   2988\u001b[0m         \u001b[0;31m# take() does not accept boolean indexers\u001b[0m\u001b[0;34m\u001b[0m\u001b[0;34m\u001b[0m\u001b[0;34m\u001b[0m\u001b[0m\n",
      "\u001b[0;32m/opt/anaconda3/lib/python3.7/site-packages/pandas/core/indexing.py\u001b[0m in \u001b[0;36m_convert_to_indexer\u001b[0;34m(self, obj, axis, is_setter, raise_missing)\u001b[0m\n\u001b[1;32m   1283\u001b[0m                 \u001b[0;31m# When setting, missing keys are not allowed, even with .loc:\u001b[0m\u001b[0;34m\u001b[0m\u001b[0;34m\u001b[0m\u001b[0;34m\u001b[0m\u001b[0m\n\u001b[1;32m   1284\u001b[0m                 \u001b[0mkwargs\u001b[0m \u001b[0;34m=\u001b[0m \u001b[0;34m{\u001b[0m\u001b[0;34m\"raise_missing\"\u001b[0m\u001b[0;34m:\u001b[0m \u001b[0;32mTrue\u001b[0m \u001b[0;32mif\u001b[0m \u001b[0mis_setter\u001b[0m \u001b[0;32melse\u001b[0m \u001b[0mraise_missing\u001b[0m\u001b[0;34m}\u001b[0m\u001b[0;34m\u001b[0m\u001b[0;34m\u001b[0m\u001b[0m\n\u001b[0;32m-> 1285\u001b[0;31m                 \u001b[0;32mreturn\u001b[0m \u001b[0mself\u001b[0m\u001b[0;34m.\u001b[0m\u001b[0m_get_listlike_indexer\u001b[0m\u001b[0;34m(\u001b[0m\u001b[0mobj\u001b[0m\u001b[0;34m,\u001b[0m \u001b[0maxis\u001b[0m\u001b[0;34m,\u001b[0m \u001b[0;34m**\u001b[0m\u001b[0mkwargs\u001b[0m\u001b[0;34m)\u001b[0m\u001b[0;34m[\u001b[0m\u001b[0;36m1\u001b[0m\u001b[0;34m]\u001b[0m\u001b[0;34m\u001b[0m\u001b[0;34m\u001b[0m\u001b[0m\n\u001b[0m\u001b[1;32m   1286\u001b[0m         \u001b[0;32melse\u001b[0m\u001b[0;34m:\u001b[0m\u001b[0;34m\u001b[0m\u001b[0;34m\u001b[0m\u001b[0m\n\u001b[1;32m   1287\u001b[0m             \u001b[0;32mtry\u001b[0m\u001b[0;34m:\u001b[0m\u001b[0;34m\u001b[0m\u001b[0;34m\u001b[0m\u001b[0m\n",
      "\u001b[0;32m/opt/anaconda3/lib/python3.7/site-packages/pandas/core/indexing.py\u001b[0m in \u001b[0;36m_get_listlike_indexer\u001b[0;34m(self, key, axis, raise_missing)\u001b[0m\n\u001b[1;32m   1090\u001b[0m \u001b[0;34m\u001b[0m\u001b[0m\n\u001b[1;32m   1091\u001b[0m         self._validate_read_indexer(\n\u001b[0;32m-> 1092\u001b[0;31m             \u001b[0mkeyarr\u001b[0m\u001b[0;34m,\u001b[0m \u001b[0mindexer\u001b[0m\u001b[0;34m,\u001b[0m \u001b[0mo\u001b[0m\u001b[0;34m.\u001b[0m\u001b[0m_get_axis_number\u001b[0m\u001b[0;34m(\u001b[0m\u001b[0maxis\u001b[0m\u001b[0;34m)\u001b[0m\u001b[0;34m,\u001b[0m \u001b[0mraise_missing\u001b[0m\u001b[0;34m=\u001b[0m\u001b[0mraise_missing\u001b[0m\u001b[0;34m\u001b[0m\u001b[0;34m\u001b[0m\u001b[0m\n\u001b[0m\u001b[1;32m   1093\u001b[0m         )\n\u001b[1;32m   1094\u001b[0m         \u001b[0;32mreturn\u001b[0m \u001b[0mkeyarr\u001b[0m\u001b[0;34m,\u001b[0m \u001b[0mindexer\u001b[0m\u001b[0;34m\u001b[0m\u001b[0;34m\u001b[0m\u001b[0m\n",
      "\u001b[0;32m/opt/anaconda3/lib/python3.7/site-packages/pandas/core/indexing.py\u001b[0m in \u001b[0;36m_validate_read_indexer\u001b[0;34m(self, key, indexer, axis, raise_missing)\u001b[0m\n\u001b[1;32m   1183\u001b[0m             \u001b[0;32mif\u001b[0m \u001b[0;32mnot\u001b[0m \u001b[0;34m(\u001b[0m\u001b[0mself\u001b[0m\u001b[0;34m.\u001b[0m\u001b[0mname\u001b[0m \u001b[0;34m==\u001b[0m \u001b[0;34m\"loc\"\u001b[0m \u001b[0;32mand\u001b[0m \u001b[0;32mnot\u001b[0m \u001b[0mraise_missing\u001b[0m\u001b[0;34m)\u001b[0m\u001b[0;34m:\u001b[0m\u001b[0;34m\u001b[0m\u001b[0;34m\u001b[0m\u001b[0m\n\u001b[1;32m   1184\u001b[0m                 \u001b[0mnot_found\u001b[0m \u001b[0;34m=\u001b[0m \u001b[0mlist\u001b[0m\u001b[0;34m(\u001b[0m\u001b[0mset\u001b[0m\u001b[0;34m(\u001b[0m\u001b[0mkey\u001b[0m\u001b[0;34m)\u001b[0m \u001b[0;34m-\u001b[0m \u001b[0mset\u001b[0m\u001b[0;34m(\u001b[0m\u001b[0max\u001b[0m\u001b[0;34m)\u001b[0m\u001b[0;34m)\u001b[0m\u001b[0;34m\u001b[0m\u001b[0;34m\u001b[0m\u001b[0m\n\u001b[0;32m-> 1185\u001b[0;31m                 \u001b[0;32mraise\u001b[0m \u001b[0mKeyError\u001b[0m\u001b[0;34m(\u001b[0m\u001b[0;34m\"{} not in index\"\u001b[0m\u001b[0;34m.\u001b[0m\u001b[0mformat\u001b[0m\u001b[0;34m(\u001b[0m\u001b[0mnot_found\u001b[0m\u001b[0;34m)\u001b[0m\u001b[0;34m)\u001b[0m\u001b[0;34m\u001b[0m\u001b[0;34m\u001b[0m\u001b[0m\n\u001b[0m\u001b[1;32m   1186\u001b[0m \u001b[0;34m\u001b[0m\u001b[0m\n\u001b[1;32m   1187\u001b[0m             \u001b[0;31m# we skip the warning on Categorical/Interval\u001b[0m\u001b[0;34m\u001b[0m\u001b[0;34m\u001b[0m\u001b[0;34m\u001b[0m\u001b[0m\n",
      "\u001b[0;31mKeyError\u001b[0m: \"['Log Sale Price'] not in index\""
     ]
    }
   ],
   "source": [
    "resid_df = pd.DataFrame(yt)\n",
    "\n",
    "\n",
    "olspaul = pd.read_csv('olspl.csv')\n",
    "olspaul=olspaul.loc[yt.index]\n",
    "olspaul = olspaul['SalePrice']\n",
    "\n",
    "resid_df['Residuals (EREG)'] = pd.DataFrame(np.exp(ereg.predict(xt))-yt)\n",
    "resid_df['Residuals (Lasso)'] = pd.DataFrame(np.exp(lasso.predict(xt))-yt)\n",
    "resid_df['Residuals (Ridge)'] = pd.DataFrame(np.exp(ridge.predict(xt))-yt)\n",
    "resid_df['Residuals (Boost)'] = pd.DataFrame(np.exp(boost.predict(xt))-yt)\n",
    "resid_df['Residuals (OLS)'] = pd.DataFrame(np.exp(ols.predict(xt))-yt)\n",
    "resid_df['Residuals (OLS-Paul)']=olspaul - yt\n",
    "\n",
    "print(resid_df)\n",
    "resid_df = resid_df.reset_index()\n",
    "\n",
    "resid_df = resid_df.merge(sc, on = 'Id')\n",
    "resid_df = resid_df.merge(mssub, on = 'Id')\n",
    "resid_df = resid_df.merge(st, on = 'Id')\n",
    "resid_df = resid_df.merge(lc, on = 'Id')\n",
    "resid_df = resid_df.merge(bldgtype, on = 'Id')\n",
    "resid_df = resid_df.merge(oq, on = 'Id')\n",
    "resid_df = resid_df.merge(nbhd, on = 'Id')\n",
    "\n",
    "\n",
    "resid_df.columns = ['Id', 'Actual Sale Price' ,\n",
    "                    'EREG', 'Lasso','Ridge', 'Boost', 'OLS', \"OLS-Paul\",\n",
    "                    \"SaleCondition\", \n",
    "                    \"MSSubClass\",\"SaleType\", \"LotConfig\", \"BuildingType\", \"OverallQual\", \"Neighborhood\"]\n",
    "\n",
    "\n",
    "resid_df['id2'] = resid_df.index\n",
    "\n",
    "resid_df = pd.melt(resid_df, id_vars =['Id', 'Actual Sale Price',  \"SaleCondition\", \n",
    "                    \"MSSubClass\",\"SaleType\", \"LotConfig\", \"BuildingType\", \"OverallQual\", \"Neighborhood\"], \n",
    "        value_vars =[\"EREG\", \"Lasso\", \"Ridge\", \"Boost\", \"OLS\", \"OLS-Paul\"])\n",
    "\n",
    "\n",
    "resid_df['Residuals/Actual Sale Price'] = resid_df['value']/resid_df['Actual Sale Price']\n",
    "\n",
    "resid_df['Actual Sale Price'] = np.log(resid_df['Actual Sale Price'])\n",
    "\n",
    "resid_df['SortedIndex'] = resid_df.index\n",
    "\n",
    "\n",
    "\n",
    "resid_df1 = resid_df[resid_df['variable'].isin([\"Lasso\",\"Ridge\"])]\n",
    "sns.lmplot(y = 'Residuals/Actual Sale Price',\n",
    "           x= \"Log Sale Price\", hue = \"variable\", data=resid_df1, fit_reg=False);\n"
   ]
  },
  {
   "cell_type": "code",
   "execution_count": 403,
   "metadata": {},
   "outputs": [
    {
     "data": {
      "image/png": "[encoded data removed]",
      "text/plain": [
       "<Figure size 424x360 with 1 Axes>"
      ]
     },
     "metadata": {
      "needs_background": "light"
     },
     "output_type": "display_data"
    }
   ],
   "source": [
    "resid_df2 = resid_df[resid_df['variable'].isin([\"Boost\"])]\n",
    "sns.lmplot(y = 'Residuals/Actual Sale Price',\n",
    "           x= \"Actual Sale Price\", hue = \"variable\", data=resid_df2, fit_reg=False);"
   ]
  },
  {
   "cell_type": "code",
   "execution_count": 667,
   "metadata": {},
   "outputs": [
    {
     "data": {
      "image/png": "[encoded data removed]",
      "text/plain": [
       "<Figure size 360x360 with 1 Axes>"
      ]
     },
     "metadata": {
      "needs_background": "light"
     },
     "output_type": "display_data"
    }
   ],
   "source": [
    "resid_df3 = resid_df[resid_df['variable'].isin([\"EREG\"])]\n",
    "ax = sns.lmplot(y = 'Residuals/Actual Sale Price',\n",
    "           x= \"Actual Sale Price\", hue = \"variable\", data=resid_df3, fit_reg=False, legend = False);\n",
    "\n",
    "ax.set(xlabel='Log Sale Price')\n",
    "\n",
    "ax.savefig(\"ereg_residuals.png\")"
   ]
  },
  {
   "cell_type": "code",
   "execution_count": 668,
   "metadata": {
    "scrolled": true
   },
   "outputs": [
    {
     "data": {
      "image/png": "[encoded data removed]",
      "text/plain": [
       "<Figure size 438.125x360 with 1 Axes>"
      ]
     },
     "metadata": {
      "needs_background": "light"
     },
     "output_type": "display_data"
    }
   ],
   "source": [
    "resid_df4 = resid_df[resid_df['variable']==\"OLS-Paul\"]\n",
    "ax = sns.lmplot(y = 'Residuals/Actual Sale Price',\n",
    "           x= \"Actual Sale Price\", hue = \"SaleCondition\", data=resid_df4, fit_reg=False);\n",
    "\n",
    "ax.set(xlabel='Log Sale Price')\n",
    "\n",
    "ax.savefig(\"practicalols_salecon_residuals.png\")"
   ]
  },
  {
   "cell_type": "code",
   "execution_count": 406,
   "metadata": {},
   "outputs": [],
   "source": [
    "olspaul = pd.read_csv('olspl.csv')"
   ]
  },
  {
   "cell_type": "code",
   "execution_count": 351,
   "metadata": {},
   "outputs": [
    {
     "data": {
      "text/html": [
       "<div>\n",
       "<style scoped>\n",
       "    .dataframe tbody tr th:only-of-type {\n",
       "        vertical-align: middle;\n",
       "    }\n",
       "\n",
       "    .dataframe tbody tr th {\n",
       "        vertical-align: top;\n",
       "    }\n",
       "\n",
       "    .dataframe thead th {\n",
       "        text-align: right;\n",
       "    }\n",
       "</style>\n",
       "<table border=\"1\" class=\"dataframe\">\n",
       "  <thead>\n",
       "    <tr style=\"text-align: right;\">\n",
       "      <th></th>\n",
       "      <th>SalePrice</th>\n",
       "    </tr>\n",
       "    <tr>\n",
       "      <th>Id</th>\n",
       "      <th></th>\n",
       "    </tr>\n",
       "  </thead>\n",
       "  <tbody>\n",
       "    <tr>\n",
       "      <td>917</td>\n",
       "      <td>180558.8681</td>\n",
       "    </tr>\n",
       "    <tr>\n",
       "      <td>711</td>\n",
       "      <td>234854.3974</td>\n",
       "    </tr>\n",
       "    <tr>\n",
       "      <td>1338</td>\n",
       "      <td>122298.7234</td>\n",
       "    </tr>\n",
       "    <tr>\n",
       "      <td>706</td>\n",
       "      <td>152394.4428</td>\n",
       "    </tr>\n",
       "    <tr>\n",
       "      <td>1326</td>\n",
       "      <td>188133.9827</td>\n",
       "    </tr>\n",
       "    <tr>\n",
       "      <td>...</td>\n",
       "      <td>...</td>\n",
       "    </tr>\n",
       "    <tr>\n",
       "      <td>179</td>\n",
       "      <td>160012.2807</td>\n",
       "    </tr>\n",
       "    <tr>\n",
       "      <td>441</td>\n",
       "      <td>120556.9771</td>\n",
       "    </tr>\n",
       "    <tr>\n",
       "      <td>1170</td>\n",
       "      <td>156166.3974</td>\n",
       "    </tr>\n",
       "    <tr>\n",
       "      <td>1183</td>\n",
       "      <td>125138.5229</td>\n",
       "    </tr>\n",
       "    <tr>\n",
       "      <td>692</td>\n",
       "      <td>213257.5899</td>\n",
       "    </tr>\n",
       "  </tbody>\n",
       "</table>\n",
       "<p>1436 rows × 1 columns</p>\n",
       "</div>"
      ],
      "text/plain": [
       "        SalePrice\n",
       "Id               \n",
       "917   180558.8681\n",
       "711   234854.3974\n",
       "1338  122298.7234\n",
       "706   152394.4428\n",
       "1326  188133.9827\n",
       "...           ...\n",
       "179   160012.2807\n",
       "441   120556.9771\n",
       "1170  156166.3974\n",
       "1183  125138.5229\n",
       "692   213257.5899\n",
       "\n",
       "[1436 rows x 1 columns]"
      ]
     },
     "execution_count": 351,
     "metadata": {},
     "output_type": "execute_result"
    }
   ],
   "source": [
    "olspaul = olspaul.loc[yt.index]\n",
    "olspaul"
   ]
  },
  {
   "cell_type": "code",
   "execution_count": 354,
   "metadata": {},
   "outputs": [
    {
     "data": {
      "text/plain": [
       "Id\n",
       "917     180558.8681\n",
       "711     234854.3974\n",
       "1338    122298.7234\n",
       "706     152394.4428\n",
       "1326    188133.9827\n",
       "           ...     \n",
       "179     160012.2807\n",
       "441     120556.9771\n",
       "1170    156166.3974\n",
       "1183    125138.5229\n",
       "692     213257.5899\n",
       "Name: SalePrice, Length: 1436, dtype: float64"
      ]
     },
     "execution_count": 354,
     "metadata": {},
     "output_type": "execute_result"
    }
   ],
   "source": [
    "olspaul = olspaul['SalePrice']\n",
    "olspaul"
   ]
  },
  {
   "cell_type": "code",
   "execution_count": 362,
   "metadata": {},
   "outputs": [
    {
     "data": {
      "text/plain": [
       "Id\n",
       "917      35311\n",
       "711      52000\n",
       "1338     52500\n",
       "706      55000\n",
       "1326     55000\n",
       "         ...  \n",
       "179     501837\n",
       "441     555000\n",
       "1170    625000\n",
       "1183    745000\n",
       "692     755000\n",
       "Name: SalePrice, Length: 1436, dtype: int64"
      ]
     },
     "execution_count": 362,
     "metadata": {},
     "output_type": "execute_result"
    }
   ],
   "source": [
    "yt"
   ]
  },
  {
   "cell_type": "code",
   "execution_count": 363,
   "metadata": {},
   "outputs": [
    {
     "data": {
      "text/plain": [
       "Id\n",
       "917    -145247.8681\n",
       "711    -182854.3974\n",
       "1338    -69798.7234\n",
       "706     -97394.4428\n",
       "1326   -133133.9827\n",
       "           ...     \n",
       "179     341824.7193\n",
       "441     434443.0229\n",
       "1170    468833.6026\n",
       "1183    619861.4771\n",
       "692     541742.4101\n",
       "Name: SalePrice, Length: 1436, dtype: float64"
      ]
     },
     "execution_count": 363,
     "metadata": {},
     "output_type": "execute_result"
    }
   ],
   "source": [
    "yt - olspaul"
   ]
  },
  {
   "cell_type": "code",
   "execution_count": 364,
   "metadata": {},
   "outputs": [
    {
     "data": {
      "text/plain": [
       "1436"
      ]
     },
     "execution_count": 364,
     "metadata": {},
     "output_type": "execute_result"
    }
   ],
   "source": [
    "len(yt)"
   ]
  },
  {
   "cell_type": "code",
   "execution_count": 471,
   "metadata": {},
   "outputs": [],
   "source": [
    "LAmean = np.mean(data.LivingArea)\n",
    "LAmean\n",
    "\n",
    "data_small = data.loc[data.LivingArea<LAmean]\n",
    "data_big = data.loc[data.LivingArea>LAmean]"
   ]
  },
  {
   "cell_type": "code",
   "execution_count": 472,
   "metadata": {},
   "outputs": [],
   "source": [
    "yTr_small = data_small.SalePrice[data_small['SalePrice']>=0]\n",
    "xTr_small = data_small[data_small['SalePrice']>=0].drop(['SalePrice'], axis=1)\n",
    "xTe_small = data_small[data_small['SalePrice']==-1].drop(['SalePrice'], axis=1)\n",
    "\n",
    "\n",
    "\n",
    "yTr_big = data_big.SalePrice[data_big['SalePrice']>=0]\n",
    "xTr_big = data_big[data_big['SalePrice']>=0].drop(['SalePrice'], axis=1)\n",
    "xTe_big = data_big[data_big['SalePrice']==-1].drop(['SalePrice'], axis=1)\n",
    "\n",
    "\n",
    "xsmall = xTr_small[:]\n",
    "ysmall = np.log(yTr_small[:])\n",
    "\n",
    "xbig = xTr_big[:]\n",
    "ybig = np.log(yTr_big[:])"
   ]
  },
  {
   "cell_type": "code",
   "execution_count": 473,
   "metadata": {},
   "outputs": [
    {
     "name": "stdout",
     "output_type": "stream",
     "text": [
      "\n",
      "Linear - - - - - - - - - - - - - - - - - - - - \n",
      "Accuracy:  0.9498\n",
      "RMSLE =  0.1261\n",
      "Cross-Val Score = 34109.0\n"
     ]
    }
   ],
   "source": [
    "np.random.seed(0)\n",
    "print(\"\\nLinear\",\"- \"*20)\n",
    "ols = linear_model.LinearRegression()\n",
    "ols.fit(xbig, ybig)\n",
    "evaluate_model(ols, xbig, ybig, 5)"
   ]
  },
  {
   "cell_type": "code",
   "execution_count": 474,
   "metadata": {},
   "outputs": [
    {
     "name": "stdout",
     "output_type": "stream",
     "text": [
      "\n",
      "Linear - - - - - - - - - - - - - - - - - - - - \n",
      "Accuracy:  0.9088\n",
      "RMSLE =  0.1172\n",
      "Cross-Val Score = 13625.0\n"
     ]
    }
   ],
   "source": [
    "np.random.seed(0)\n",
    "print(\"\\nLinear\",\"- \"*20)\n",
    "ols = linear_model.LinearRegression()\n",
    "ols.fit(xsmall, ysmall)\n",
    "evaluate_model(ols, xsmall, ysmall, 5)"
   ]
  },
  {
   "cell_type": "code",
   "execution_count": 475,
   "metadata": {},
   "outputs": [
    {
     "name": "stdout",
     "output_type": "stream",
     "text": [
      "\n",
      "Ridge - - - - - - - - - - - - - - - - - - - - \n",
      "Accuracy:  0.8902\n",
      "RMSLE =  0.1068\n",
      "Cross-Val Score = 12820.0\n",
      "\n",
      "Lasso - - - - - - - - - - - - - - - - - - - - \n",
      "Best alpha =  0.00012729909066803923\n",
      "Accuracy:  0.8824\n",
      "RMSLE =  0.1034\n",
      "Cross-Val Score = 12338.0\n"
     ]
    }
   ],
   "source": [
    "np.random.seed(1)\n",
    "print(\"\\nRidge\",\"- \"*20)\n",
    "ridge = linear_model.RidgeCV(   alphas=np.arange(0.05,4,0.01),\n",
    "                                normalize=[True,False],\n",
    "                                fit_intercept=[True,False])\n",
    "ridge.fit(xsmall, ysmall)\n",
    "#best_alpha = ridge.alpha_\n",
    "#print(\"Best alpha = \",best_alpha)\n",
    "#ridge = linear_model.Ridge(ridge.alpha_,normalize=True)\n",
    "#ridge.fit(x, y)\n",
    "evaluate_model(ridge, xsmall, ysmall, 5)\n",
    "\n",
    "\n",
    "print(\"\\nLasso\",\"- \"*20)\n",
    "lasso = linear_model.LassoCV(eps=0.001, n_alphas=100, cv=5, normalize=True, max_iter=1000000)\n",
    "lasso.fit(xsmall, ysmall)\n",
    "print(\"Best alpha = \",lasso.alpha_)\n",
    "evaluate_model(lasso, xsmall, ysmall, 5)\n"
   ]
  },
  {
   "cell_type": "code",
   "execution_count": 592,
   "metadata": {},
   "outputs": [
    {
     "data": {
      "text/plain": [
       "788"
      ]
     },
     "execution_count": 592,
     "metadata": {},
     "output_type": "execute_result"
    }
   ],
   "source": [
    "len(xsmall)\n",
    "len(ysmall)"
   ]
  },
  {
   "cell_type": "code",
   "execution_count": 476,
   "metadata": {},
   "outputs": [
    {
     "name": "stdout",
     "output_type": "stream",
     "text": [
      "\n",
      "Ridge - - - - - - - - - - - - - - - - - - - - \n",
      "Accuracy:  0.9351\n",
      "RMSLE =  0.1107\n",
      "Cross-Val Score = 29785.0\n",
      "\n",
      "Lasso - - - - - - - - - - - - - - - - - - - - \n",
      "Best alpha =  0.00016639890488183296\n",
      "Accuracy:  0.9231\n",
      "RMSLE =  0.1063\n",
      "Cross-Val Score = 28134.0\n"
     ]
    }
   ],
   "source": [
    "np.random.seed(1)\n",
    "print(\"\\nRidge\",\"- \"*20)\n",
    "ridge = linear_model.RidgeCV(   alphas=np.arange(0.05,4,0.01),\n",
    "                                normalize=[True,False],\n",
    "                                fit_intercept=[True,False])\n",
    "ridge.fit(xbig, ybig)\n",
    "#best_alpha = ridge.alpha_\n",
    "#print(\"Best alpha = \",best_alpha)\n",
    "#ridge = linear_model.Ridge(ridge.alpha_,normalize=True)\n",
    "#ridge.fit(x, y)\n",
    "evaluate_model(ridge, xbig, ybig, 5)\n",
    "\n",
    "\n",
    "print(\"\\nLasso\",\"- \"*20)\n",
    "lasso = linear_model.LassoCV(eps=0.001, n_alphas=100, cv=5, normalize=True, max_iter=1000000)\n",
    "lasso.fit(xbig, ybig)\n",
    "print(\"Best alpha = \",lasso.alpha_)\n",
    "evaluate_model(lasso, xbig, ybig, 5)\n"
   ]
  },
  {
   "cell_type": "code",
   "execution_count": 610,
   "metadata": {},
   "outputs": [],
   "source": [
    "yp_small = lasso.predict(xsmall)\n",
    "yp_small = np.exp(yp_small)\n",
    "\n",
    "\n",
    "yp_big = lasso.predict(xbig)\n",
    "yp_big = np.exp(yp_big)\n",
    "\n",
    "\n",
    "\n",
    "yp = np.vstack((yp_small.reshape(-1,1), yp_big.reshape(-1,1)))\n",
    "#yp_small = yp_small.reshape(-1,1)\n",
    "#yp_big = yp_big.reshape(-1,1)\n",
    "\n",
    "yreal = ysmall.values\n",
    "yreal = np.vstack((yreal.reshape(-1,1), ybig.values.reshape(-1,1)))\n",
    "#yreal = np.vstack((ysmall.values, ybig.values))"
   ]
  },
  {
   "cell_type": "code",
   "execution_count": 611,
   "metadata": {},
   "outputs": [],
   "source": [
    "yp = yp[:,0]\n",
    "resid = (yp - np.exp(yreal))/np.exp(yreal)"
   ]
  },
  {
   "cell_type": "code",
   "execution_count": 612,
   "metadata": {},
   "outputs": [
    {
     "ename": "ValueError",
     "evalue": "Length mismatch: Expected axis has 1437 elements, new values have 2 elements",
     "output_type": "error",
     "traceback": [
      "\u001b[0;31m---------------------------------------------------------------------------\u001b[0m",
      "\u001b[0;31mValueError\u001b[0m                                Traceback (most recent call last)",
      "\u001b[0;32m<ipython-input-612-e8a80ae557f8>\u001b[0m in \u001b[0;36m<module>\u001b[0;34m\u001b[0m\n\u001b[1;32m      1\u001b[0m \u001b[0mplotdata\u001b[0m \u001b[0;34m=\u001b[0m \u001b[0mpd\u001b[0m\u001b[0;34m.\u001b[0m\u001b[0mDataFrame\u001b[0m\u001b[0;34m(\u001b[0m\u001b[0mresid\u001b[0m\u001b[0;34m)\u001b[0m\u001b[0;34m\u001b[0m\u001b[0;34m\u001b[0m\u001b[0m\n\u001b[1;32m      2\u001b[0m \u001b[0mplotdata\u001b[0m\u001b[0;34m[\u001b[0m\u001b[0;34m'yreal'\u001b[0m\u001b[0;34m]\u001b[0m \u001b[0;34m=\u001b[0m \u001b[0myreal\u001b[0m\u001b[0;34m\u001b[0m\u001b[0;34m\u001b[0m\u001b[0m\n\u001b[0;32m----> 3\u001b[0;31m \u001b[0mplotdata\u001b[0m\u001b[0;34m.\u001b[0m\u001b[0mcolumns\u001b[0m \u001b[0;34m=\u001b[0m \u001b[0;34m[\u001b[0m\u001b[0;34m'resid'\u001b[0m\u001b[0;34m,\u001b[0m \u001b[0;34m'yreal'\u001b[0m\u001b[0;34m]\u001b[0m\u001b[0;34m\u001b[0m\u001b[0;34m\u001b[0m\u001b[0m\n\u001b[0m\u001b[1;32m      4\u001b[0m \u001b[0;31m#plotdata['resid'] = resid\u001b[0m\u001b[0;34m\u001b[0m\u001b[0;34m\u001b[0m\u001b[0;34m\u001b[0m\u001b[0m\n\u001b[1;32m      5\u001b[0m \u001b[0;31m#plotdata['yreal'] = pd.DataFrame(yreal)\u001b[0m\u001b[0;34m\u001b[0m\u001b[0;34m\u001b[0m\u001b[0;34m\u001b[0m\u001b[0m\n",
      "\u001b[0;32m/opt/anaconda3/lib/python3.7/site-packages/pandas/core/generic.py\u001b[0m in \u001b[0;36m__setattr__\u001b[0;34m(self, name, value)\u001b[0m\n\u001b[1;32m   5190\u001b[0m         \u001b[0;32mtry\u001b[0m\u001b[0;34m:\u001b[0m\u001b[0;34m\u001b[0m\u001b[0;34m\u001b[0m\u001b[0m\n\u001b[1;32m   5191\u001b[0m             \u001b[0mobject\u001b[0m\u001b[0;34m.\u001b[0m\u001b[0m__getattribute__\u001b[0m\u001b[0;34m(\u001b[0m\u001b[0mself\u001b[0m\u001b[0;34m,\u001b[0m \u001b[0mname\u001b[0m\u001b[0;34m)\u001b[0m\u001b[0;34m\u001b[0m\u001b[0;34m\u001b[0m\u001b[0m\n\u001b[0;32m-> 5192\u001b[0;31m             \u001b[0;32mreturn\u001b[0m \u001b[0mobject\u001b[0m\u001b[0;34m.\u001b[0m\u001b[0m__setattr__\u001b[0m\u001b[0;34m(\u001b[0m\u001b[0mself\u001b[0m\u001b[0;34m,\u001b[0m \u001b[0mname\u001b[0m\u001b[0;34m,\u001b[0m \u001b[0mvalue\u001b[0m\u001b[0;34m)\u001b[0m\u001b[0;34m\u001b[0m\u001b[0;34m\u001b[0m\u001b[0m\n\u001b[0m\u001b[1;32m   5193\u001b[0m         \u001b[0;32mexcept\u001b[0m \u001b[0mAttributeError\u001b[0m\u001b[0;34m:\u001b[0m\u001b[0;34m\u001b[0m\u001b[0;34m\u001b[0m\u001b[0m\n\u001b[1;32m   5194\u001b[0m             \u001b[0;32mpass\u001b[0m\u001b[0;34m\u001b[0m\u001b[0;34m\u001b[0m\u001b[0m\n",
      "\u001b[0;32mpandas/_libs/properties.pyx\u001b[0m in \u001b[0;36mpandas._libs.properties.AxisProperty.__set__\u001b[0;34m()\u001b[0m\n",
      "\u001b[0;32m/opt/anaconda3/lib/python3.7/site-packages/pandas/core/generic.py\u001b[0m in \u001b[0;36m_set_axis\u001b[0;34m(self, axis, labels)\u001b[0m\n\u001b[1;32m    688\u001b[0m \u001b[0;34m\u001b[0m\u001b[0m\n\u001b[1;32m    689\u001b[0m     \u001b[0;32mdef\u001b[0m \u001b[0m_set_axis\u001b[0m\u001b[0;34m(\u001b[0m\u001b[0mself\u001b[0m\u001b[0;34m,\u001b[0m \u001b[0maxis\u001b[0m\u001b[0;34m,\u001b[0m \u001b[0mlabels\u001b[0m\u001b[0;34m)\u001b[0m\u001b[0;34m:\u001b[0m\u001b[0;34m\u001b[0m\u001b[0;34m\u001b[0m\u001b[0m\n\u001b[0;32m--> 690\u001b[0;31m         \u001b[0mself\u001b[0m\u001b[0;34m.\u001b[0m\u001b[0m_data\u001b[0m\u001b[0;34m.\u001b[0m\u001b[0mset_axis\u001b[0m\u001b[0;34m(\u001b[0m\u001b[0maxis\u001b[0m\u001b[0;34m,\u001b[0m \u001b[0mlabels\u001b[0m\u001b[0;34m)\u001b[0m\u001b[0;34m\u001b[0m\u001b[0;34m\u001b[0m\u001b[0m\n\u001b[0m\u001b[1;32m    691\u001b[0m         \u001b[0mself\u001b[0m\u001b[0;34m.\u001b[0m\u001b[0m_clear_item_cache\u001b[0m\u001b[0;34m(\u001b[0m\u001b[0;34m)\u001b[0m\u001b[0;34m\u001b[0m\u001b[0;34m\u001b[0m\u001b[0m\n\u001b[1;32m    692\u001b[0m \u001b[0;34m\u001b[0m\u001b[0m\n",
      "\u001b[0;32m/opt/anaconda3/lib/python3.7/site-packages/pandas/core/internals/managers.py\u001b[0m in \u001b[0;36mset_axis\u001b[0;34m(self, axis, new_labels)\u001b[0m\n\u001b[1;32m    181\u001b[0m             raise ValueError(\n\u001b[1;32m    182\u001b[0m                 \u001b[0;34m\"Length mismatch: Expected axis has {old} elements, new \"\u001b[0m\u001b[0;34m\u001b[0m\u001b[0;34m\u001b[0m\u001b[0m\n\u001b[0;32m--> 183\u001b[0;31m                 \u001b[0;34m\"values have {new} elements\"\u001b[0m\u001b[0;34m.\u001b[0m\u001b[0mformat\u001b[0m\u001b[0;34m(\u001b[0m\u001b[0mold\u001b[0m\u001b[0;34m=\u001b[0m\u001b[0mold_len\u001b[0m\u001b[0;34m,\u001b[0m \u001b[0mnew\u001b[0m\u001b[0;34m=\u001b[0m\u001b[0mnew_len\u001b[0m\u001b[0;34m)\u001b[0m\u001b[0;34m\u001b[0m\u001b[0;34m\u001b[0m\u001b[0m\n\u001b[0m\u001b[1;32m    184\u001b[0m             )\n\u001b[1;32m    185\u001b[0m \u001b[0;34m\u001b[0m\u001b[0m\n",
      "\u001b[0;31mValueError\u001b[0m: Length mismatch: Expected axis has 1437 elements, new values have 2 elements"
     ]
    }
   ],
   "source": [
    "plotdata = pd.DataFrame(resid)\n",
    "plotdata['yreal'] = yreal\n",
    "plotdata.columns = ['resid', 'yreal']\n",
    "#plotdata['resid'] = resid\n",
    "#plotdata['yreal'] = pd.DataFrame(yreal)\n",
    "sns.lmplot(y = \"resid\", x= \"yreal\", data = plotdata, fit_reg=False);"
   ]
  },
  {
   "cell_type": "code",
   "execution_count": 575,
   "metadata": {},
   "outputs": [
    {
     "data": {
      "text/plain": [
       "(1436,)"
      ]
     },
     "execution_count": 575,
     "metadata": {},
     "output_type": "execute_result"
    }
   ],
   "source": [
    "yp"
   ]
  },
  {
   "cell_type": "code",
   "execution_count": 459,
   "metadata": {},
   "outputs": [
    {
     "data": {
      "text/plain": [
       "(648,)"
      ]
     },
     "execution_count": 459,
     "metadata": {},
     "output_type": "execute_result"
    }
   ],
   "source": [
    "ybig.shape"
   ]
  },
  {
   "cell_type": "code",
   "execution_count": 613,
   "metadata": {},
   "outputs": [],
   "source": [
    "import statsmodels.api as sm"
   ]
  },
  {
   "cell_type": "code",
   "execution_count": null,
   "metadata": {},
   "outputs": [],
   "source": []
  }
 ],
 "metadata": {
  "kernelspec": {
   "display_name": "Python 3",
   "language": "python",
   "name": "python3"
  },
  "language_info": {
   "codemirror_mode": {
    "name": "ipython",
    "version": 3
   },
   "file_extension": ".py",
   "mimetype": "text/x-python",
   "name": "python",
   "nbconvert_exporter": "python",
   "pygments_lexer": "ipython3",
   "version": "3.7.4"
  }
 },
 "nbformat": 4,
 "nbformat_minor": 2
}
