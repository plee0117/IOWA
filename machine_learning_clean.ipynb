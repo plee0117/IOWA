{
 "cells": [
  {
   "cell_type": "markdown",
   "metadata": {},
   "source": [
    "### House Prices: Advanced Regression Techniques\n",
    "\n",
    "Predict sales prices and practice feature engineering, RFs, and gradient boosting"
   ]
  },
  {
   "cell_type": "code",
   "execution_count": 1,
   "metadata": {},
   "outputs": [],
   "source": [
    "import pandas as pd\n",
    "import numpy as np\n",
    "import matplotlib.pyplot as plt\n",
    "from sklearn import linear_model\n",
    "from sklearn.preprocessing import OneHotEncoder\n",
    "from sklearn.metrics import mean_squared_error\n",
    "from sklearn.tree import DecisionTreeRegressor\n",
    "from sklearn.model_selection import train_test_split\n",
    "from sklearn.model_selection import cross_val_score\n",
    "from sklearn.ensemble import GradientBoostingRegressor\n",
    "from sklearn.ensemble import RandomForestRegressor\n",
    "from sklearn.model_selection import GridSearchCV"
   ]
  },
  {
   "cell_type": "code",
   "execution_count": 4,
   "metadata": {},
   "outputs": [],
   "source": [
    "train = pd.read_csv('train_clean.csv')\n",
    "train = train.set_index('Id')\n",
    "test = pd.read_csv('test.csv')\n",
    "test = test.set_index('Id')"
   ]
  },
  {
   "cell_type": "code",
   "execution_count": 5,
   "metadata": {},
   "outputs": [
    {
     "data": {
      "text/html": [
       "<div>\n",
       "<style scoped>\n",
       "    .dataframe tbody tr th:only-of-type {\n",
       "        vertical-align: middle;\n",
       "    }\n",
       "\n",
       "    .dataframe tbody tr th {\n",
       "        vertical-align: top;\n",
       "    }\n",
       "\n",
       "    .dataframe thead th {\n",
       "        text-align: right;\n",
       "    }\n",
       "</style>\n",
       "<table border=\"1\" class=\"dataframe\">\n",
       "  <thead>\n",
       "    <tr style=\"text-align: right;\">\n",
       "      <th></th>\n",
       "      <th>Unnamed: 0</th>\n",
       "      <th>MSSubClass</th>\n",
       "      <th>MSZoning</th>\n",
       "      <th>LotFrontage</th>\n",
       "      <th>LotArea</th>\n",
       "      <th>Street</th>\n",
       "      <th>Alley</th>\n",
       "      <th>LotShape</th>\n",
       "      <th>LandContour</th>\n",
       "      <th>Utilities</th>\n",
       "      <th>...</th>\n",
       "      <th>EnclosedPorch</th>\n",
       "      <th>3SsnPorch</th>\n",
       "      <th>ScreenPorch</th>\n",
       "      <th>Fence</th>\n",
       "      <th>MiscVal</th>\n",
       "      <th>MoSold</th>\n",
       "      <th>YrSold</th>\n",
       "      <th>SaleType</th>\n",
       "      <th>SaleCondition</th>\n",
       "      <th>SalePrice</th>\n",
       "    </tr>\n",
       "    <tr>\n",
       "      <th>Id</th>\n",
       "      <th></th>\n",
       "      <th></th>\n",
       "      <th></th>\n",
       "      <th></th>\n",
       "      <th></th>\n",
       "      <th></th>\n",
       "      <th></th>\n",
       "      <th></th>\n",
       "      <th></th>\n",
       "      <th></th>\n",
       "      <th></th>\n",
       "      <th></th>\n",
       "      <th></th>\n",
       "      <th></th>\n",
       "      <th></th>\n",
       "      <th></th>\n",
       "      <th></th>\n",
       "      <th></th>\n",
       "      <th></th>\n",
       "      <th></th>\n",
       "      <th></th>\n",
       "    </tr>\n",
       "  </thead>\n",
       "  <tbody>\n",
       "    <tr>\n",
       "      <td>1</td>\n",
       "      <td>0</td>\n",
       "      <td>60</td>\n",
       "      <td>RL</td>\n",
       "      <td>65.0</td>\n",
       "      <td>8450</td>\n",
       "      <td>Pave</td>\n",
       "      <td>No Alley</td>\n",
       "      <td>Reg</td>\n",
       "      <td>Lvl</td>\n",
       "      <td>AllPub</td>\n",
       "      <td>...</td>\n",
       "      <td>0</td>\n",
       "      <td>0</td>\n",
       "      <td>0</td>\n",
       "      <td>No Fence</td>\n",
       "      <td>0</td>\n",
       "      <td>2</td>\n",
       "      <td>2008</td>\n",
       "      <td>WD</td>\n",
       "      <td>Normal</td>\n",
       "      <td>208500</td>\n",
       "    </tr>\n",
       "    <tr>\n",
       "      <td>2</td>\n",
       "      <td>1</td>\n",
       "      <td>20</td>\n",
       "      <td>RL</td>\n",
       "      <td>80.0</td>\n",
       "      <td>9600</td>\n",
       "      <td>Pave</td>\n",
       "      <td>No Alley</td>\n",
       "      <td>Reg</td>\n",
       "      <td>Lvl</td>\n",
       "      <td>AllPub</td>\n",
       "      <td>...</td>\n",
       "      <td>0</td>\n",
       "      <td>0</td>\n",
       "      <td>0</td>\n",
       "      <td>No Fence</td>\n",
       "      <td>0</td>\n",
       "      <td>5</td>\n",
       "      <td>2007</td>\n",
       "      <td>WD</td>\n",
       "      <td>Normal</td>\n",
       "      <td>181500</td>\n",
       "    </tr>\n",
       "    <tr>\n",
       "      <td>3</td>\n",
       "      <td>2</td>\n",
       "      <td>60</td>\n",
       "      <td>RL</td>\n",
       "      <td>68.0</td>\n",
       "      <td>11250</td>\n",
       "      <td>Pave</td>\n",
       "      <td>No Alley</td>\n",
       "      <td>IR1</td>\n",
       "      <td>Lvl</td>\n",
       "      <td>AllPub</td>\n",
       "      <td>...</td>\n",
       "      <td>0</td>\n",
       "      <td>0</td>\n",
       "      <td>0</td>\n",
       "      <td>No Fence</td>\n",
       "      <td>0</td>\n",
       "      <td>9</td>\n",
       "      <td>2008</td>\n",
       "      <td>WD</td>\n",
       "      <td>Normal</td>\n",
       "      <td>223500</td>\n",
       "    </tr>\n",
       "    <tr>\n",
       "      <td>4</td>\n",
       "      <td>3</td>\n",
       "      <td>70</td>\n",
       "      <td>RL</td>\n",
       "      <td>60.0</td>\n",
       "      <td>9550</td>\n",
       "      <td>Pave</td>\n",
       "      <td>No Alley</td>\n",
       "      <td>IR1</td>\n",
       "      <td>Lvl</td>\n",
       "      <td>AllPub</td>\n",
       "      <td>...</td>\n",
       "      <td>272</td>\n",
       "      <td>0</td>\n",
       "      <td>0</td>\n",
       "      <td>No Fence</td>\n",
       "      <td>0</td>\n",
       "      <td>2</td>\n",
       "      <td>2006</td>\n",
       "      <td>WD</td>\n",
       "      <td>Abnorml</td>\n",
       "      <td>140000</td>\n",
       "    </tr>\n",
       "    <tr>\n",
       "      <td>5</td>\n",
       "      <td>4</td>\n",
       "      <td>60</td>\n",
       "      <td>RL</td>\n",
       "      <td>84.0</td>\n",
       "      <td>14260</td>\n",
       "      <td>Pave</td>\n",
       "      <td>No Alley</td>\n",
       "      <td>IR1</td>\n",
       "      <td>Lvl</td>\n",
       "      <td>AllPub</td>\n",
       "      <td>...</td>\n",
       "      <td>0</td>\n",
       "      <td>0</td>\n",
       "      <td>0</td>\n",
       "      <td>No Fence</td>\n",
       "      <td>0</td>\n",
       "      <td>12</td>\n",
       "      <td>2008</td>\n",
       "      <td>WD</td>\n",
       "      <td>Normal</td>\n",
       "      <td>250000</td>\n",
       "    </tr>\n",
       "  </tbody>\n",
       "</table>\n",
       "<p>5 rows × 75 columns</p>\n",
       "</div>"
      ],
      "text/plain": [
       "    Unnamed: 0  MSSubClass MSZoning  LotFrontage  LotArea Street     Alley  \\\n",
       "Id                                                                           \n",
       "1            0          60       RL         65.0     8450   Pave  No Alley   \n",
       "2            1          20       RL         80.0     9600   Pave  No Alley   \n",
       "3            2          60       RL         68.0    11250   Pave  No Alley   \n",
       "4            3          70       RL         60.0     9550   Pave  No Alley   \n",
       "5            4          60       RL         84.0    14260   Pave  No Alley   \n",
       "\n",
       "   LotShape LandContour Utilities  ... EnclosedPorch 3SsnPorch ScreenPorch  \\\n",
       "Id                                 ...                                       \n",
       "1       Reg         Lvl    AllPub  ...             0         0           0   \n",
       "2       Reg         Lvl    AllPub  ...             0         0           0   \n",
       "3       IR1         Lvl    AllPub  ...             0         0           0   \n",
       "4       IR1         Lvl    AllPub  ...           272         0           0   \n",
       "5       IR1         Lvl    AllPub  ...             0         0           0   \n",
       "\n",
       "       Fence MiscVal MoSold YrSold  SaleType  SaleCondition  SalePrice  \n",
       "Id                                                                      \n",
       "1   No Fence       0      2   2008        WD         Normal     208500  \n",
       "2   No Fence       0      5   2007        WD         Normal     181500  \n",
       "3   No Fence       0      9   2008        WD         Normal     223500  \n",
       "4   No Fence       0      2   2006        WD        Abnorml     140000  \n",
       "5   No Fence       0     12   2008        WD         Normal     250000  \n",
       "\n",
       "[5 rows x 75 columns]"
      ]
     },
     "execution_count": 5,
     "metadata": {},
     "output_type": "execute_result"
    }
   ],
   "source": [
    "train.head()"
   ]
  },
  {
   "cell_type": "markdown",
   "metadata": {},
   "source": [
    "### Cleaning Dataset and Removing Missingness"
   ]
  },
  {
   "cell_type": "code",
   "execution_count": 16,
   "metadata": {},
   "outputs": [
    {
     "name": "stderr",
     "output_type": "stream",
     "text": [
      "/opt/anaconda3/lib/python3.7/site-packages/ipykernel_launcher.py:3: FutureWarning: Sorting because non-concatenation axis is not aligned. A future version\n",
      "of pandas will change to not sort by default.\n",
      "\n",
      "To accept the future behavior, pass 'sort=False'.\n",
      "\n",
      "To retain the current behavior and silence the warning, pass 'sort=True'.\n",
      "\n",
      "  This is separate from the ipykernel package so we can avoid doing imports until\n"
     ]
    }
   ],
   "source": [
    "#Putting training and testing dataset together to evaluate NA's and Engineer Features\n",
    "test['SalePrice'] = -1\n",
    "full_set = pd.concat([train,test],axis=0)\n",
    "full_set = full_set[train.columns]"
   ]
  },
  {
   "cell_type": "code",
   "execution_count": 17,
   "metadata": {},
   "outputs": [
    {
     "name": "stdout",
     "output_type": "stream",
     "text": [
      "               NAs_Train\n",
      "feature                 \n",
      "Unnamed: 0             0\n",
      "MSSubClass             0\n",
      "MSZoning               0\n",
      "LotFrontage          259\n",
      "LotArea                0\n",
      "...                  ...\n",
      "MoSold                 0\n",
      "YrSold                 0\n",
      "SaleType               0\n",
      "SaleCondition          0\n",
      "SalePrice              0\n",
      "\n",
      "[75 rows x 1 columns]\n"
     ]
    },
    {
     "name": "stderr",
     "output_type": "stream",
     "text": [
      "/opt/anaconda3/lib/python3.7/site-packages/ipykernel_launcher.py:10: FutureWarning: Sorting because non-concatenation axis is not aligned. A future version\n",
      "of pandas will change to not sort by default.\n",
      "\n",
      "To accept the future behavior, pass 'sort=False'.\n",
      "\n",
      "To retain the current behavior and silence the warning, pass 'sort=True'.\n",
      "\n",
      "  # Remove the CWD from sys.path while we load stuff.\n"
     ]
    }
   ],
   "source": [
    "#Columns with at least one NA value\n",
    "nas_train = np.sum(train.isna()).reset_index()\n",
    "nas_train.columns = ['feature', 'NAs_Train']\n",
    "nas_train.set_index('feature', inplace=True)\n",
    "\n",
    "nas_test = np.sum(test.isna()).reset_index()\n",
    "nas_test.columns = ['feature', 'NAs_Test']\n",
    "nas_test.set_index('feature', inplace=True)\n",
    "\n",
    "nas_total = pd.concat([nas_train, nas_test], axis='columns')\n",
    "nas_total['Total'] = nas_total['NAs_Test']+nas_total['NAs_Train']\n",
    "nas_total = nas_total[nas_total['Total']>0].sort_values('Total',ascending=False)\n",
    "print(nas_train)"
   ]
  },
  {
   "cell_type": "markdown",
   "metadata": {},
   "source": [
    "I will not use columns with plenty of NA's since they don't provide a lot of information.\n",
    "Variables with a very small proportion, specially in the testing dataset I will fill them up with the most common value (median)."
   ]
  },
  {
   "cell_type": "code",
   "execution_count": 18,
   "metadata": {},
   "outputs": [
    {
     "data": {
      "text/plain": [
       "Index(['Unnamed: 0', 'MSSubClass', 'MSZoning', 'LotFrontage', 'LotArea',\n",
       "       'Street', 'Alley', 'LotShape', 'LandContour', 'Utilities', 'LotConfig',\n",
       "       'LandSlope', 'Neighborhood', 'Condition1', 'Condition2', 'BldgType',\n",
       "       'HouseStyle', 'OverallQual', 'OverallCond', 'YearBuilt', 'YearRemodAdd',\n",
       "       'RoofStyle', 'RoofMatl', 'Exterior1st', 'Exterior2nd', 'ExterQual',\n",
       "       'ExterCond', 'Foundation', 'BsmtQual', 'BsmtCond', 'BsmtExposure',\n",
       "       'BsmtFinType1', 'BsmtFinSF1', 'BsmtFinType2', 'BsmtFinSF2', 'BsmtUnfSF',\n",
       "       'TotalBsmtSF', 'Heating', 'HeatingQC', 'CentralAir', 'Electrical',\n",
       "       '1stFlrSF', '2ndFlrSF', 'LowQualFinSF', 'GrLivArea', 'BsmtFullBath',\n",
       "       'BsmtHalfBath', 'FullBath', 'HalfBath', 'BedroomAbvGr', 'KitchenAbvGr',\n",
       "       'KitchenQual', 'TotRmsAbvGrd', 'Functional', 'Fireplaces',\n",
       "       'FireplaceQu', 'GarageType', 'GarageFinish', 'GarageCars', 'GarageArea',\n",
       "       'GarageQual', 'GarageCond', 'PavedDrive', 'WoodDeckSF', 'OpenPorchSF',\n",
       "       'EnclosedPorch', '3SsnPorch', 'ScreenPorch', 'Fence', 'MiscVal',\n",
       "       'MoSold', 'YrSold', 'SaleType', 'SaleCondition', 'SalePrice'],\n",
       "      dtype='object')"
      ]
     },
     "execution_count": 18,
     "metadata": {},
     "output_type": "execute_result"
    }
   ],
   "source": [
    "train.columns"
   ]
  },
  {
   "cell_type": "code",
   "execution_count": 19,
   "metadata": {},
   "outputs": [
    {
     "name": "stdout",
     "output_type": "stream",
     "text": [
      "Columns to Remove:  Index(['Alley', 'Fence', 'FireplaceQu', 'LotFrontage', 'GarageCond',\n",
      "       'GarageQual'],\n",
      "      dtype='object')\n",
      "\n",
      "Columns to Fill:  Index(['GarageFinish', 'GarageType', 'BsmtCond', 'BsmtQual', 'BsmtExposure',\n",
      "       'BsmtFinType1', 'BsmtFinType2', 'MSZoning', 'Functional', 'Utilities',\n",
      "       'BsmtHalfBath', 'BsmtFullBath', 'GarageArea', 'GarageCars',\n",
      "       'BsmtFinSF2', 'Exterior2nd', 'Exterior1st', 'BsmtUnfSF', 'KitchenQual',\n",
      "       'SaleType', 'TotalBsmtSF', 'BsmtFinSF1'],\n",
      "      dtype='object')\n"
     ]
    }
   ],
   "source": [
    "columns_to_remove = nas_total.index[0:6]\n",
    "columns_to_fill = nas_total.index[6:]\n",
    "print(\"Columns to Remove: \",columns_to_remove)\n",
    "print(\"\\nColumns to Fill: \",columns_to_fill)"
   ]
  },
  {
   "cell_type": "markdown",
   "metadata": {},
   "source": [
    "__Final dataframe with cleaned data.__"
   ]
  },
  {
   "cell_type": "code",
   "execution_count": 20,
   "metadata": {},
   "outputs": [
    {
     "name": "stdout",
     "output_type": "stream",
     "text": [
      "(2919, 69)\n",
      "(2919, 75)\n"
     ]
    }
   ],
   "source": [
    "clean_df = full_set.drop(columns_to_remove, axis=1)\n",
    "for feature in columns_to_fill:\n",
    "    mode_value = clean_df[feature].mode()[0]\n",
    "    clean_df[feature].fillna(value=mode_value,inplace=True)\n",
    "print(clean_df.shape)\n",
    "print(full_set.shape)"
   ]
  },
  {
   "cell_type": "markdown",
   "metadata": {},
   "source": [
    "__Final dataframe with cleaned data and hot encoding.__"
   ]
  },
  {
   "cell_type": "code",
   "execution_count": 21,
   "metadata": {
    "scrolled": false
   },
   "outputs": [],
   "source": [
    "numeric_columns = ['LotFrontage','LotArea','YearBuilt','YearRemodAdd','MasVnrArea','BsmtFinSF1','BsmtFinSF2','BsmtUnfSF','TotalBsmtSF','1stFlrSF','2ndFlrSF','LowQualFinSF','GrLivArea','GarageYrBlt','GarageArea','WoodDeckSF','OpenPorchSF','EnclosedPorch','3SsnPorch','ScreenPorch','PoolArea','MiscVal']\n",
    "categorical_columns = ['MSSubClass','MSZoning','Street','LotShape','LandContour','Utilities','LotConfig','LandSlope','Neighborhood','Condition1','Condition2','BldgType','HouseStyle','RoofStyle','RoofMatl','Exterior1st','Exterior2nd','ExterQual','ExterCond','Foundation','BsmtQual','BsmtCond','BsmtExposure','BsmtFinType1','BsmtFinType2','Heating','HeatingQC','CentralAir','Electrical','KitchenQual','Functional','GarageType','GarageFinish','PavedDrive','SaleType','SaleCondition']\n",
    "data = pd.get_dummies(clean_df, prefix_sep='_', columns=categorical_columns, drop_first=False)\n",
    "\n",
    "\n",
    "#removed \"['GarageQual', 'MasVnrType', 'GarageCond']\""
   ]
  },
  {
   "cell_type": "markdown",
   "metadata": {},
   "source": [
    "### Training Set and Testing Set"
   ]
  },
  {
   "cell_type": "code",
   "execution_count": 22,
   "metadata": {},
   "outputs": [],
   "source": [
    "yTr = data.SalePrice[data['SalePrice']>=0]\n",
    "xTr = data[data['SalePrice']>=0].drop(['SalePrice'], axis=1)\n",
    "xTe = data[data['SalePrice']==-1].drop(['SalePrice'], axis=1)\n",
    "\n",
    "#x_train, x_test, y_train, y_test = train_test_split(x, y, test_size=0.30, random_state = 0)"
   ]
  },
  {
   "cell_type": "markdown",
   "metadata": {},
   "source": [
    "### 1. Basic Linear Regression Model"
   ]
  },
  {
   "cell_type": "code",
   "execution_count": 23,
   "metadata": {},
   "outputs": [
    {
     "name": "stdout",
     "output_type": "stream",
     "text": [
      "Accuracy:  0.748\n",
      "MSE:  39856.0\n",
      "Cross-Val Score = 39534.779\n"
     ]
    }
   ],
   "source": [
    "ols = linear_model.LinearRegression()\n",
    "area_columns = ['GrLivArea','LotArea','TotalBsmtSF','OverallQual']\n",
    "x = xTr[area_columns]\n",
    "y = yTr[:]\n",
    "ols.fit(x, y)\n",
    "print(\"Accuracy: \",round(ols.score(x, y),3))\n",
    "print(\"MSE: \",round(mean_squared_error(ols.predict(x),y)**.5))\n",
    "ols_scores = -cross_val_score(ols, x, y, scoring='neg_mean_squared_error', cv = 10)\n",
    "print(\"Cross-Val Score =\",round(np.mean(ols_scores**.5),3))"
   ]
  },
  {
   "cell_type": "markdown",
   "metadata": {},
   "source": [
    "### 2. Saturated Linear Regression Model"
   ]
  },
  {
   "cell_type": "code",
   "execution_count": 24,
   "metadata": {},
   "outputs": [
    {
     "name": "stdout",
     "output_type": "stream",
     "text": [
      "Accuracy:  0.928\n",
      "MSE:  21278.0\n",
      "Cross-Val Score = 69997436.307\n"
     ]
    }
   ],
   "source": [
    "ols = linear_model.LinearRegression()\n",
    "x = xTr\n",
    "y = yTr[:]\n",
    "ols.fit(x, y)\n",
    "ols_scores = -cross_val_score(ols, x, y, scoring='neg_mean_squared_error', cv = 10)\n",
    "print(\"Accuracy: \",round(ols.score(x, y),3))\n",
    "print(\"MSE: \",round(mean_squared_error(ols.predict(x),y)**.5))\n",
    "print(\"Cross-Val Score =\",round(np.mean(ols_scores**.5),3))"
   ]
  },
  {
   "cell_type": "markdown",
   "metadata": {},
   "source": [
    "### 3. Ridge Regression Model"
   ]
  },
  {
   "cell_type": "code",
   "execution_count": 26,
   "metadata": {},
   "outputs": [
    {
     "name": "stdout",
     "output_type": "stream",
     "text": [
      "Best alpha =  0.4000000000000001\n",
      "Accuracy:  0.909\n",
      "MSE:  23924.0\n",
      "Cross-Val Score = 29158.599\n"
     ]
    }
   ],
   "source": [
    "x = xTr[:]\n",
    "y = yTr[:]\n",
    "ridge = linear_model.RidgeCV(alphas=np.arange(0.05,4,0.01),normalize=True)\n",
    "ridge.fit(x, y)\n",
    "print(\"Best alpha = \",ridge.alpha_)\n",
    "ridge = linear_model.Ridge(ridge.alpha_,normalize=True)\n",
    "ridge.fit(x, y)\n",
    "ridge_scores = -cross_val_score(ridge, x, y, scoring='neg_mean_squared_error', cv = 10)\n",
    "print(\"Accuracy: \",round(ridge.score(x, y),3))\n",
    "print(\"MSE: \",round(mean_squared_error(ridge.predict(x),y)**.5))\n",
    "print(\"Cross-Val Score =\",round(np.mean(ridge_scores**.5),3))"
   ]
  },
  {
   "cell_type": "markdown",
   "metadata": {},
   "source": [
    "### 4. Lasso Regression Model"
   ]
  },
  {
   "cell_type": "code",
   "execution_count": 28,
   "metadata": {},
   "outputs": [
    {
     "name": "stdout",
     "output_type": "stream",
     "text": [
      "Best alpha =  33.03120314016188\n",
      "Accuracy:  0.909\n",
      "MSE:  23999.0\n",
      "Cross-Val Score = 29678.702\n"
     ]
    }
   ],
   "source": [
    "x = xTr[:]\n",
    "y = yTr[:]\n",
    "\n",
    "lasso = linear_model.LassoCV(eps=0.001, n_alphas=100, cv=5, normalize=True)\n",
    "\n",
    "lasso.fit(x, y)\n",
    "print(\"Best alpha = \",lasso.alpha_)\n",
    "alpha=lasso.alpha_\n",
    "lasso = linear_model.Lasso(alpha=lasso.alpha_, normalize=True)\n",
    "lasso.fit(x, y)\n",
    "lasso_scores = -cross_val_score(lasso, x, y, scoring='neg_mean_squared_error', cv = 10)\n",
    "print(\"Accuracy: \",round(lasso.score(x, y),3))\n",
    "print(\"MSE: \",round(mean_squared_error(lasso.predict(x),y)**.5))\n",
    "print(\"Cross-Val Score =\",round(np.mean(lasso_scores**.5),3))"
   ]
  },
  {
   "cell_type": "markdown",
   "metadata": {},
   "source": [
    "### 5. CART Regression Tree"
   ]
  },
  {
   "cell_type": "code",
   "execution_count": 29,
   "metadata": {},
   "outputs": [],
   "source": [
    "x = xTr[:]\n",
    "y = yTr[:]"
   ]
  },
  {
   "cell_type": "code",
   "execution_count": 30,
   "metadata": {},
   "outputs": [
    {
     "name": "stdout",
     "output_type": "stream",
     "text": [
      "Tree Depth =  3 \tAccuracy:  0.744 \tMSE:  40142.0 \tCross-Val Score = 42869.114\n",
      "Tree Depth =  4 \tAccuracy:  0.81 \tMSE:  34632.0 \tCross-Val Score = 40096.592\n",
      "Tree Depth =  5 \tAccuracy:  0.862 \tMSE:  29524.0 \tCross-Val Score = 39962.158\n",
      "Tree Depth =  6 \tAccuracy:  0.903 \tMSE:  24686.0 \tCross-Val Score = 37793.677\n",
      "Tree Depth =  7 \tAccuracy:  0.936 \tMSE:  20053.0 \tCross-Val Score = 39026.151\n",
      "Tree Depth =  8 \tAccuracy:  0.958 \tMSE:  16179.0 \tCross-Val Score = 38483.251\n",
      "Tree Depth =  9 \tAccuracy:  0.973 \tMSE:  13019.0 \tCross-Val Score = 37697.522\n",
      "Tree Depth =  10 \tAccuracy:  0.983 \tMSE:  10368.0 \tCross-Val Score = 37929.305\n",
      "Tree Depth =  11 \tAccuracy:  0.989 \tMSE:  8317.0 \tCross-Val Score = 37601.332\n",
      "Tree Depth =  12 \tAccuracy:  0.993 \tMSE:  6779.0 \tCross-Val Score = 39721.782\n",
      "Tree Depth =  13 \tAccuracy:  0.995 \tMSE:  5430.0 \tCross-Val Score = 39006.23\n",
      "Tree Depth =  14 \tAccuracy:  0.997 \tMSE:  4437.0 \tCross-Val Score = 37518.186\n",
      "Tree Depth =  15 \tAccuracy:  0.998 \tMSE:  3414.0 \tCross-Val Score = 40285.721\n"
     ]
    }
   ],
   "source": [
    "for i in range(3,16):\n",
    "    tree = DecisionTreeRegressor(max_depth=i)\n",
    "    tree.fit(x, y)\n",
    "    tree_scores = -cross_val_score(tree, x, y, scoring='neg_mean_squared_error', cv = 10)\n",
    "    print(\"Tree Depth = \",i,\"\\tAccuracy: \",round(tree.score(x, y),3),\"\\tMSE: \",round(mean_squared_error(tree.predict(x),y)**.5),\"\\tCross-Val Score =\",round(np.mean(tree_scores**.5),3))"
   ]
  },
  {
   "cell_type": "markdown",
   "metadata": {},
   "source": [
    "### 6. Gradient Boosting Regression"
   ]
  },
  {
   "cell_type": "code",
   "execution_count": 32,
   "metadata": {},
   "outputs": [
    {
     "name": "stdout",
     "output_type": "stream",
     "text": [
      "Accuracy:  0.992\n",
      "MSE:  6997.0\n",
      "Cross-Val Score = 24033.923\n"
     ]
    }
   ],
   "source": [
    "x = xTr[:]\n",
    "y = yTr[:]\n",
    "boost = GradientBoostingRegressor(n_estimators=500)\n",
    "boost.fit(x, y)\n",
    "boost_scores = -cross_val_score(boost, x, y, scoring='neg_mean_squared_error', cv = 10)\n",
    "print(\"Accuracy: \",round(boost.score(x, y),3))\n",
    "print(\"MSE: \",round(mean_squared_error(boost.predict(x),y)**.5))\n",
    "print(\"Cross-Val Score =\",round(np.mean(boost_scores**.5),3))"
   ]
  },
  {
   "cell_type": "markdown",
   "metadata": {},
   "source": [
    "__GridSearch for Random Forest Regressor__"
   ]
  },
  {
   "cell_type": "code",
   "execution_count": 34,
   "metadata": {},
   "outputs": [
    {
     "name": "stdout",
     "output_type": "stream",
     "text": [
      "{'learning_rate': 0.1, 'max_depth': 4}\n"
     ]
    }
   ],
   "source": [
    "param_grid = [\n",
    "    {'learning_rate':[0.05,0.1],'max_depth':[3,4,5,6,7,8]}\n",
    "            ]\n",
    "boost = GradientBoostingRegressor()\n",
    "grid_search = GridSearchCV(boost,param_grid, cv=5, scoring='neg_mean_squared_error',return_train_score=True)\n",
    "grid_search.fit(x,y)\n",
    "print(grid_search.best_params_)"
   ]
  },
  {
   "cell_type": "code",
   "execution_count": 36,
   "metadata": {},
   "outputs": [
    {
     "data": {
      "text/plain": [
       "GradientBoostingRegressor(alpha=0.9, criterion='friedman_mse', init=None,\n",
       "                          learning_rate=0.1, loss='ls', max_depth=4,\n",
       "                          max_features=None, max_leaf_nodes=None,\n",
       "                          min_impurity_decrease=0.0, min_impurity_split=None,\n",
       "                          min_samples_leaf=1, min_samples_split=2,\n",
       "                          min_weight_fraction_leaf=0.0, n_estimators=100,\n",
       "                          n_iter_no_change=None, presort='auto',\n",
       "                          random_state=None, subsample=1.0, tol=0.0001,\n",
       "                          validation_fraction=0.1, verbose=0, warm_start=False)"
      ]
     },
     "execution_count": 36,
     "metadata": {},
     "output_type": "execute_result"
    }
   ],
   "source": [
    "#Best parameters\n",
    "grid_search.best_estimator_"
   ]
  },
  {
   "cell_type": "code",
   "execution_count": 37,
   "metadata": {
    "scrolled": false
   },
   "outputs": [
    {
     "name": "stdout",
     "output_type": "stream",
     "text": [
      "28186.750429624317 {'learning_rate': 0.05, 'max_depth': 3}\n",
      "27253.430662397477 {'learning_rate': 0.05, 'max_depth': 4}\n",
      "28699.55005318201 {'learning_rate': 0.05, 'max_depth': 5}\n",
      "29674.946220692185 {'learning_rate': 0.05, 'max_depth': 6}\n",
      "30315.019470375577 {'learning_rate': 0.05, 'max_depth': 7}\n",
      "31671.990068568597 {'learning_rate': 0.05, 'max_depth': 8}\n",
      "26268.429650054844 {'learning_rate': 0.1, 'max_depth': 3}\n",
      "26171.231300810883 {'learning_rate': 0.1, 'max_depth': 4}\n",
      "28707.943079087054 {'learning_rate': 0.1, 'max_depth': 5}\n",
      "29586.506202916513 {'learning_rate': 0.1, 'max_depth': 6}\n",
      "30329.827710869893 {'learning_rate': 0.1, 'max_depth': 7}\n",
      "32082.405809831704 {'learning_rate': 0.1, 'max_depth': 8}\n"
     ]
    }
   ],
   "source": [
    "cvres = grid_search.cv_results_\n",
    "for mean_score,params in zip(cvres[\"mean_test_score\"],cvres[\"params\"]):\n",
    "    print((-mean_score)**.5,params)"
   ]
  },
  {
   "cell_type": "markdown",
   "metadata": {},
   "source": [
    "### 7. Random Forest Regressor"
   ]
  },
  {
   "cell_type": "code",
   "execution_count": 39,
   "metadata": {},
   "outputs": [
    {
     "name": "stdout",
     "output_type": "stream",
     "text": [
      "Accuracy:  0.981\n",
      "MSE:  10995.0\n",
      "Cross-Val Score = 28669.239\n"
     ]
    }
   ],
   "source": [
    "x = xTr[:]\n",
    "y = yTr[:]\n",
    "forest = RandomForestRegressor(n_estimators=100)\n",
    "forest.fit(x, y)\n",
    "forest_scores = -cross_val_score(forest, x, y, scoring='neg_mean_squared_error', cv = 10)\n",
    "print(\"Accuracy: \",round(forest.score(x, y),3))\n",
    "print(\"MSE: \",round(mean_squared_error(forest.predict(x),y)**.5))\n",
    "print(\"Cross-Val Score =\",round(np.mean(forest_scores**.5),3))"
   ]
  },
  {
   "cell_type": "markdown",
   "metadata": {},
   "source": [
    "__GridSearch for Random Forest Regressor__"
   ]
  },
  {
   "cell_type": "code",
   "execution_count": 40,
   "metadata": {},
   "outputs": [
    {
     "name": "stdout",
     "output_type": "stream",
     "text": [
      "{'bootstrap': False, 'max_features': 19, 'n_estimators': 70}\n"
     ]
    }
   ],
   "source": [
    "param_grid = [\n",
    "    {'n_estimators':[25,30,35,40,45,50],'max_features':[6,8,10,12,14,16,18,20]},\n",
    "    {'bootstrap':[False],'n_estimators':[30,35,40,45,50,55,60,65,70],'max_features':[5,7,9,11,13,15,17,19]}\n",
    "            ]\n",
    "forest = RandomForestRegressor()\n",
    "grid_search = GridSearchCV(forest,param_grid, cv=5, scoring='neg_mean_squared_error',return_train_score=True)\n",
    "grid_search.fit(x,y)\n",
    "print(grid_search.best_params_)"
   ]
  },
  {
   "cell_type": "code",
   "execution_count": 41,
   "metadata": {},
   "outputs": [
    {
     "data": {
      "text/plain": [
       "RandomForestRegressor(bootstrap=False, criterion='mse', max_depth=None,\n",
       "                      max_features=19, max_leaf_nodes=None,\n",
       "                      min_impurity_decrease=0.0, min_impurity_split=None,\n",
       "                      min_samples_leaf=1, min_samples_split=2,\n",
       "                      min_weight_fraction_leaf=0.0, n_estimators=70,\n",
       "                      n_jobs=None, oob_score=False, random_state=None,\n",
       "                      verbose=0, warm_start=False)"
      ]
     },
     "execution_count": 41,
     "metadata": {},
     "output_type": "execute_result"
    }
   ],
   "source": [
    "#Best parameters\n",
    "grid_search.best_estimator_"
   ]
  },
  {
   "cell_type": "code",
   "execution_count": 42,
   "metadata": {
    "scrolled": false
   },
   "outputs": [
    {
     "name": "stdout",
     "output_type": "stream",
     "text": [
      "34290.10729536872 {'max_features': 6, 'n_estimators': 25}\n",
      "34104.24005078565 {'max_features': 6, 'n_estimators': 30}\n",
      "33885.391932792605 {'max_features': 6, 'n_estimators': 35}\n",
      "33053.275624849484 {'max_features': 6, 'n_estimators': 40}\n",
      "33567.16786415951 {'max_features': 6, 'n_estimators': 45}\n",
      "33698.779162502346 {'max_features': 6, 'n_estimators': 50}\n",
      "32981.157092264366 {'max_features': 8, 'n_estimators': 25}\n",
      "32488.46371951676 {'max_features': 8, 'n_estimators': 30}\n",
      "32913.05643747934 {'max_features': 8, 'n_estimators': 35}\n",
      "32738.34956442204 {'max_features': 8, 'n_estimators': 40}\n",
      "33137.84538421493 {'max_features': 8, 'n_estimators': 45}\n",
      "32533.955222202152 {'max_features': 8, 'n_estimators': 50}\n",
      "32246.386297746918 {'max_features': 10, 'n_estimators': 25}\n",
      "32092.140243782796 {'max_features': 10, 'n_estimators': 30}\n",
      "31489.443530333483 {'max_features': 10, 'n_estimators': 35}\n",
      "31964.64679985951 {'max_features': 10, 'n_estimators': 40}\n",
      "31277.67238701812 {'max_features': 10, 'n_estimators': 45}\n",
      "31187.41118931131 {'max_features': 10, 'n_estimators': 50}\n",
      "31963.28465777012 {'max_features': 12, 'n_estimators': 25}\n",
      "30763.631913893994 {'max_features': 12, 'n_estimators': 30}\n",
      "33107.66919937203 {'max_features': 12, 'n_estimators': 35}\n",
      "31893.933460982505 {'max_features': 12, 'n_estimators': 40}\n",
      "30749.87974947178 {'max_features': 12, 'n_estimators': 45}\n",
      "32594.370836630373 {'max_features': 12, 'n_estimators': 50}\n",
      "31675.30183684467 {'max_features': 14, 'n_estimators': 25}\n",
      "30872.75504557743 {'max_features': 14, 'n_estimators': 30}\n",
      "31010.593309750762 {'max_features': 14, 'n_estimators': 35}\n",
      "31086.800577539885 {'max_features': 14, 'n_estimators': 40}\n",
      "31576.899530652747 {'max_features': 14, 'n_estimators': 45}\n",
      "31367.708880491533 {'max_features': 14, 'n_estimators': 50}\n",
      "31211.758302887054 {'max_features': 16, 'n_estimators': 25}\n",
      "31137.85917333806 {'max_features': 16, 'n_estimators': 30}\n",
      "30489.33481677158 {'max_features': 16, 'n_estimators': 35}\n",
      "31157.178545767743 {'max_features': 16, 'n_estimators': 40}\n",
      "31182.91138057823 {'max_features': 16, 'n_estimators': 45}\n",
      "31344.938536537524 {'max_features': 16, 'n_estimators': 50}\n",
      "30406.25390764858 {'max_features': 18, 'n_estimators': 25}\n",
      "32064.94495149685 {'max_features': 18, 'n_estimators': 30}\n",
      "30989.660301235544 {'max_features': 18, 'n_estimators': 35}\n",
      "30500.73303595898 {'max_features': 18, 'n_estimators': 40}\n",
      "30421.767775024167 {'max_features': 18, 'n_estimators': 45}\n",
      "30633.484644141205 {'max_features': 18, 'n_estimators': 50}\n",
      "31225.30348544103 {'max_features': 20, 'n_estimators': 25}\n",
      "30583.82484845135 {'max_features': 20, 'n_estimators': 30}\n",
      "30635.55794911754 {'max_features': 20, 'n_estimators': 35}\n",
      "29958.2495455558 {'max_features': 20, 'n_estimators': 40}\n",
      "30650.057757233957 {'max_features': 20, 'n_estimators': 45}\n",
      "30600.444450376846 {'max_features': 20, 'n_estimators': 50}\n",
      "32584.564788853015 {'bootstrap': False, 'max_features': 5, 'n_estimators': 30}\n",
      "32364.053894552944 {'bootstrap': False, 'max_features': 5, 'n_estimators': 35}\n",
      "32607.333101616587 {'bootstrap': False, 'max_features': 5, 'n_estimators': 40}\n",
      "32256.597986997054 {'bootstrap': False, 'max_features': 5, 'n_estimators': 45}\n",
      "32703.50225891 {'bootstrap': False, 'max_features': 5, 'n_estimators': 50}\n",
      "32268.734231391696 {'bootstrap': False, 'max_features': 5, 'n_estimators': 55}\n",
      "31755.63403327283 {'bootstrap': False, 'max_features': 5, 'n_estimators': 60}\n",
      "33087.54485985245 {'bootstrap': False, 'max_features': 5, 'n_estimators': 65}\n",
      "32838.4426973177 {'bootstrap': False, 'max_features': 5, 'n_estimators': 70}\n",
      "31906.526694774144 {'bootstrap': False, 'max_features': 7, 'n_estimators': 30}\n",
      "32416.895969495647 {'bootstrap': False, 'max_features': 7, 'n_estimators': 35}\n",
      "32066.235279150354 {'bootstrap': False, 'max_features': 7, 'n_estimators': 40}\n",
      "32473.71843319308 {'bootstrap': False, 'max_features': 7, 'n_estimators': 45}\n",
      "31405.0889332865 {'bootstrap': False, 'max_features': 7, 'n_estimators': 50}\n",
      "31641.620059488025 {'bootstrap': False, 'max_features': 7, 'n_estimators': 55}\n",
      "31314.514170783943 {'bootstrap': False, 'max_features': 7, 'n_estimators': 60}\n",
      "31745.640545105023 {'bootstrap': False, 'max_features': 7, 'n_estimators': 65}\n",
      "31383.15614028124 {'bootstrap': False, 'max_features': 7, 'n_estimators': 70}\n",
      "31534.220900948767 {'bootstrap': False, 'max_features': 9, 'n_estimators': 30}\n",
      "30914.515862390752 {'bootstrap': False, 'max_features': 9, 'n_estimators': 35}\n",
      "31506.351784538616 {'bootstrap': False, 'max_features': 9, 'n_estimators': 40}\n",
      "30653.23883201677 {'bootstrap': False, 'max_features': 9, 'n_estimators': 45}\n",
      "31204.37628412848 {'bootstrap': False, 'max_features': 9, 'n_estimators': 50}\n",
      "30492.60258006906 {'bootstrap': False, 'max_features': 9, 'n_estimators': 55}\n",
      "30776.13431300564 {'bootstrap': False, 'max_features': 9, 'n_estimators': 60}\n",
      "30814.09494911272 {'bootstrap': False, 'max_features': 9, 'n_estimators': 65}\n",
      "30649.926772658855 {'bootstrap': False, 'max_features': 9, 'n_estimators': 70}\n",
      "31117.089233418294 {'bootstrap': False, 'max_features': 11, 'n_estimators': 30}\n",
      "30043.495231906323 {'bootstrap': False, 'max_features': 11, 'n_estimators': 35}\n",
      "29944.024319168508 {'bootstrap': False, 'max_features': 11, 'n_estimators': 40}\n",
      "30344.365386246165 {'bootstrap': False, 'max_features': 11, 'n_estimators': 45}\n",
      "31028.305108984703 {'bootstrap': False, 'max_features': 11, 'n_estimators': 50}\n",
      "29783.010419351755 {'bootstrap': False, 'max_features': 11, 'n_estimators': 55}\n",
      "29632.94812975368 {'bootstrap': False, 'max_features': 11, 'n_estimators': 60}\n",
      "29874.3959884363 {'bootstrap': False, 'max_features': 11, 'n_estimators': 65}\n",
      "30058.706645631017 {'bootstrap': False, 'max_features': 11, 'n_estimators': 70}\n",
      "30472.61518800582 {'bootstrap': False, 'max_features': 13, 'n_estimators': 30}\n",
      "30572.501502338197 {'bootstrap': False, 'max_features': 13, 'n_estimators': 35}\n",
      "30315.658703409685 {'bootstrap': False, 'max_features': 13, 'n_estimators': 40}\n",
      "29305.78807182292 {'bootstrap': False, 'max_features': 13, 'n_estimators': 45}\n",
      "29522.607771408064 {'bootstrap': False, 'max_features': 13, 'n_estimators': 50}\n",
      "29875.577271671682 {'bootstrap': False, 'max_features': 13, 'n_estimators': 55}\n",
      "29391.89504216263 {'bootstrap': False, 'max_features': 13, 'n_estimators': 60}\n",
      "29963.576843469764 {'bootstrap': False, 'max_features': 13, 'n_estimators': 65}\n",
      "29743.039006559145 {'bootstrap': False, 'max_features': 13, 'n_estimators': 70}\n",
      "30239.112330299686 {'bootstrap': False, 'max_features': 15, 'n_estimators': 30}\n",
      "30171.298628588327 {'bootstrap': False, 'max_features': 15, 'n_estimators': 35}\n",
      "30582.243785622013 {'bootstrap': False, 'max_features': 15, 'n_estimators': 40}\n",
      "29405.488386896286 {'bootstrap': False, 'max_features': 15, 'n_estimators': 45}\n",
      "29883.942447505542 {'bootstrap': False, 'max_features': 15, 'n_estimators': 50}\n",
      "29070.725039238634 {'bootstrap': False, 'max_features': 15, 'n_estimators': 55}\n",
      "29759.741210677283 {'bootstrap': False, 'max_features': 15, 'n_estimators': 60}\n",
      "29538.41629975777 {'bootstrap': False, 'max_features': 15, 'n_estimators': 65}\n",
      "29723.621790891608 {'bootstrap': False, 'max_features': 15, 'n_estimators': 70}\n",
      "29931.454320946556 {'bootstrap': False, 'max_features': 17, 'n_estimators': 30}\n",
      "29113.62375625642 {'bootstrap': False, 'max_features': 17, 'n_estimators': 35}\n",
      "29403.625355697975 {'bootstrap': False, 'max_features': 17, 'n_estimators': 40}\n",
      "29354.92754882019 {'bootstrap': False, 'max_features': 17, 'n_estimators': 45}\n",
      "29862.81043511404 {'bootstrap': False, 'max_features': 17, 'n_estimators': 50}\n",
      "29863.148149002758 {'bootstrap': False, 'max_features': 17, 'n_estimators': 55}\n",
      "29104.3358744308 {'bootstrap': False, 'max_features': 17, 'n_estimators': 60}\n",
      "29058.729950862777 {'bootstrap': False, 'max_features': 17, 'n_estimators': 65}\n",
      "29096.49516111931 {'bootstrap': False, 'max_features': 17, 'n_estimators': 70}\n",
      "28350.785150407482 {'bootstrap': False, 'max_features': 19, 'n_estimators': 30}\n",
      "29829.924851110383 {'bootstrap': False, 'max_features': 19, 'n_estimators': 35}\n",
      "29830.849474283274 {'bootstrap': False, 'max_features': 19, 'n_estimators': 40}\n",
      "29115.456421739007 {'bootstrap': False, 'max_features': 19, 'n_estimators': 45}\n",
      "28869.39223817336 {'bootstrap': False, 'max_features': 19, 'n_estimators': 50}\n",
      "29724.359386291937 {'bootstrap': False, 'max_features': 19, 'n_estimators': 55}\n",
      "29289.76944098971 {'bootstrap': False, 'max_features': 19, 'n_estimators': 60}\n",
      "29602.941049061566 {'bootstrap': False, 'max_features': 19, 'n_estimators': 65}\n",
      "28190.573164604066 {'bootstrap': False, 'max_features': 19, 'n_estimators': 70}\n"
     ]
    }
   ],
   "source": [
    "cvres = grid_search.cv_results_\n",
    "for mean_score,params in zip(cvres[\"mean_test_score\"],cvres[\"params\"]):\n",
    "    print((-mean_score)**.5,params)"
   ]
  },
  {
   "cell_type": "code",
   "execution_count": null,
   "metadata": {},
   "outputs": [],
   "source": []
  }
 ],
 "metadata": {
  "kernelspec": {
   "display_name": "Python 3",
   "language": "python",
   "name": "python3"
  },
  "language_info": {
   "codemirror_mode": {
    "name": "ipython",
    "version": 3
   },
   "file_extension": ".py",
   "mimetype": "text/x-python",
   "name": "python",
   "nbconvert_exporter": "python",
   "pygments_lexer": "ipython3",
   "version": "3.7.4"
  }
 },
 "nbformat": 4,
 "nbformat_minor": 2
}
